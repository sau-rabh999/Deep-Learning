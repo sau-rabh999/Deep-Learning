{
  "nbformat": 4,
  "nbformat_minor": 0,
  "metadata": {
    "colab": {
      "name": "MNIST dataset",
      "provenance": [],
      "collapsed_sections": [
        "OAENtPPPvbfn",
        "wZMCYvhfvpPQ",
        "r-JIHiqlgtHD",
        "sXS42zXaNWhH",
        "k84kD10W1jk3"
      ],
      "authorship_tag": "ABX9TyOffvKqhE2BaCfBy3RgSA2g",
      "include_colab_link": true
    },
    "kernelspec": {
      "name": "python3",
      "display_name": "Python 3"
    },
    "language_info": {
      "name": "python"
    }
  },
  "cells": [
    {
      "cell_type": "markdown",
      "metadata": {
        "id": "view-in-github",
        "colab_type": "text"
      },
      "source": [
        "<a href=\"https://colab.research.google.com/github/sau-rabh999/Deep-Learning/blob/main/MNIST_dataset.ipynb\" target=\"_parent\"><img src=\"https://colab.research.google.com/assets/colab-badge.svg\" alt=\"Open In Colab\"/></a>"
      ]
    },
    {
      "cell_type": "code",
      "metadata": {
        "id": "ZSmzLJcjXe5G"
      },
      "source": [
        "import pandas as pd\n",
        "import numpy as np\n",
        "import matplotlib.pyplot as plt\n",
        "%matplotlib inline\n",
        "import tensorflow as tf\n",
        "from tensorflow import keras"
      ],
      "execution_count": null,
      "outputs": []
    },
    {
      "cell_type": "code",
      "metadata": {
        "colab": {
          "base_uri": "https://localhost:8080/"
        },
        "id": "P-st4TFYXwlt",
        "outputId": "1620a71c-d3df-41d4-e1ea-320f3fc3ac06"
      },
      "source": [
        "#uploading the MNIST dataset\n",
        "(x_train,y_train) , (x_test,y_test) = keras.datasets.mnist.load_data()"
      ],
      "execution_count": null,
      "outputs": [
        {
          "output_type": "stream",
          "text": [
            "Downloading data from https://storage.googleapis.com/tensorflow/tf-keras-datasets/mnist.npz\n",
            "11493376/11490434 [==============================] - 0s 0us/step\n"
          ],
          "name": "stdout"
        }
      ]
    },
    {
      "cell_type": "code",
      "metadata": {
        "colab": {
          "base_uri": "https://localhost:8080/"
        },
        "id": "IzteLOhUfx5j",
        "outputId": "53ffeae1-4fbd-40a7-8afe-7098e1b7fa9a"
      },
      "source": [
        "len(x_train)"
      ],
      "execution_count": null,
      "outputs": [
        {
          "output_type": "execute_result",
          "data": {
            "text/plain": [
              "60000"
            ]
          },
          "metadata": {
            "tags": []
          },
          "execution_count": 5
        }
      ]
    },
    {
      "cell_type": "code",
      "metadata": {
        "colab": {
          "base_uri": "https://localhost:8080/"
        },
        "id": "FH7_UW25iGPL",
        "outputId": "b542ab53-f111-4733-9faa-29ec64c8e924"
      },
      "source": [
        "x_train[0].shape"
      ],
      "execution_count": null,
      "outputs": [
        {
          "output_type": "execute_result",
          "data": {
            "text/plain": [
              "(28, 28)"
            ]
          },
          "metadata": {
            "tags": []
          },
          "execution_count": 6
        }
      ]
    },
    {
      "cell_type": "code",
      "metadata": {
        "colab": {
          "base_uri": "https://localhost:8080/",
          "height": 292
        },
        "id": "qaqLqx-eiGSq",
        "outputId": "b9e26b37-6c8d-42a9-f667-8935d9c62b44"
      },
      "source": [
        "plt.matshow(x_train[0])"
      ],
      "execution_count": null,
      "outputs": [
        {
          "output_type": "execute_result",
          "data": {
            "text/plain": [
              "<matplotlib.image.AxesImage at 0x7fb17265bf10>"
            ]
          },
          "metadata": {
            "tags": []
          },
          "execution_count": 7
        },
        {
          "output_type": "display_data",
          "data": {
            "image/png": "[encoded data removed]",
            "text/plain": [
              "<Figure size 288x288 with 1 Axes>"
            ]
          },
          "metadata": {
            "tags": [],
            "needs_background": "light"
          }
        }
      ]
    },
    {
      "cell_type": "code",
      "metadata": {
        "colab": {
          "base_uri": "https://localhost:8080/"
        },
        "id": "wlbuCrRViGVF",
        "outputId": "bfc34a47-4993-4e3b-ce41-67f7eb00622f"
      },
      "source": [
        "y_train[0]"
      ],
      "execution_count": null,
      "outputs": [
        {
          "output_type": "execute_result",
          "data": {
            "text/plain": [
              "5"
            ]
          },
          "metadata": {
            "tags": []
          },
          "execution_count": 8
        }
      ]
    },
    {
      "cell_type": "code",
      "metadata": {
        "id": "mwbaoe0hiGX1"
      },
      "source": [
        "\n",
        "x_train_flatten = x_train.reshape(len(x_train),28*28)\n",
        "x_test_flatten = x_test.reshape(len(x_test),28*28)"
      ],
      "execution_count": null,
      "outputs": []
    },
    {
      "cell_type": "code",
      "metadata": {
        "colab": {
          "base_uri": "https://localhost:8080/"
        },
        "id": "Ys5ojL-diu9S",
        "outputId": "3cc410ad-70ae-4027-c186-abd094ab8b77"
      },
      "source": [
        "x_test_flatten.shape"
      ],
      "execution_count": null,
      "outputs": [
        {
          "output_type": "execute_result",
          "data": {
            "text/plain": [
              "(10000, 784)"
            ]
          },
          "metadata": {
            "tags": []
          },
          "execution_count": 10
        }
      ]
    },
    {
      "cell_type": "code",
      "metadata": {
        "colab": {
          "base_uri": "https://localhost:8080/"
        },
        "id": "bftyy9JdivAC",
        "outputId": "6bd363ca-1862-47b9-f695-82935c883e94"
      },
      "source": [
        "model = keras.Sequential([\n",
        "                          keras.layers.Dense(10 , input_shape=(784,) , activation= 'sigmoid')\n",
        "                          \n",
        "])\n",
        "\n",
        "model.compile(\n",
        "    optimizer = 'adam',\n",
        "    loss = 'sparse_categorical_crossentropy',\n",
        "    metrics = ['accuracy']\n",
        ")\n",
        "\n",
        "model.fit(x_train_flatten , y_train , epochs = 5)\n"
      ],
      "execution_count": null,
      "outputs": [
        {
          "output_type": "stream",
          "text": [
            "Epoch 1/5\n",
            "1875/1875 [==============================] - 3s 1ms/step - loss: 9.5538 - accuracy: 0.8421\n",
            "Epoch 2/5\n",
            "1875/1875 [==============================] - 3s 1ms/step - loss: 6.0990 - accuracy: 0.8788\n",
            "Epoch 3/5\n",
            "1875/1875 [==============================] - 2s 1ms/step - loss: 5.6422 - accuracy: 0.8848\n",
            "Epoch 4/5\n",
            "1875/1875 [==============================] - 2s 1ms/step - loss: 5.5100 - accuracy: 0.8864\n",
            "Epoch 5/5\n",
            "1875/1875 [==============================] - 2s 1ms/step - loss: 5.3593 - accuracy: 0.8869\n"
          ],
          "name": "stdout"
        },
        {
          "output_type": "execute_result",
          "data": {
            "text/plain": [
              "<tensorflow.python.keras.callbacks.History at 0x7fb16cc498d0>"
            ]
          },
          "metadata": {
            "tags": []
          },
          "execution_count": 18
        }
      ]
    },
    {
      "cell_type": "code",
      "metadata": {
        "colab": {
          "base_uri": "https://localhost:8080/"
        },
        "id": "PCnWvzj0ivCn",
        "outputId": "aa60c0e1-6833-4fba-ae5d-c09319668bc2"
      },
      "source": [
        "#evaluating the accuracy on test dataset\n",
        "\n",
        "model.evaluate(x_test_flatten , y_test)"
      ],
      "execution_count": null,
      "outputs": [
        {
          "output_type": "stream",
          "text": [
            "313/313 [==============================] - 1s 1ms/step - loss: 5.9669 - accuracy: 0.8912\n"
          ],
          "name": "stdout"
        },
        {
          "output_type": "execute_result",
          "data": {
            "text/plain": [
              "[5.966948986053467, 0.8912000060081482]"
            ]
          },
          "metadata": {
            "tags": []
          },
          "execution_count": 19
        }
      ]
    },
    {
      "cell_type": "code",
      "metadata": {
        "colab": {
          "base_uri": "https://localhost:8080/"
        },
        "id": "Jz2FyAJ_ivFf",
        "outputId": "99b51242-40f3-4931-d634-d81852efe02c"
      },
      "source": [
        "model.predict(x_test_flatten)"
      ],
      "execution_count": null,
      "outputs": [
        {
          "output_type": "execute_result",
          "data": {
            "text/plain": [
              "array([[0.0000000e+00, 0.0000000e+00, 3.9598103e-11, ..., 1.0000000e+00,\n",
              "        1.0000000e+00, 1.0000000e+00],\n",
              "       [1.0000000e+00, 1.0000000e+00, 1.0000000e+00, ..., 0.0000000e+00,\n",
              "        1.0000000e+00, 0.0000000e+00],\n",
              "       [0.0000000e+00, 1.0000000e+00, 1.0000000e+00, ..., 3.2612600e-15,\n",
              "        9.9999785e-01, 1.6915798e-04],\n",
              "       ...,\n",
              "       [0.0000000e+00, 0.0000000e+00, 3.7939765e-25, ..., 1.0000000e+00,\n",
              "        1.0000000e+00, 1.0000000e+00],\n",
              "       [0.0000000e+00, 2.4576187e-03, 0.0000000e+00, ..., 1.6725217e-10,\n",
              "        1.0000000e+00, 1.4432893e-29],\n",
              "       [1.0204965e-17, 0.0000000e+00, 1.0000000e+00, ..., 0.0000000e+00,\n",
              "        4.2469798e-13, 0.0000000e+00]], dtype=float32)"
            ]
          },
          "metadata": {
            "tags": []
          },
          "execution_count": 20
        }
      ]
    },
    {
      "cell_type": "code",
      "metadata": {
        "colab": {
          "base_uri": "https://localhost:8080/",
          "height": 292
        },
        "id": "BNi9IjkDplqq",
        "outputId": "ea46f42c-3674-442d-b4fb-4efb96d81fc4"
      },
      "source": [
        "plt.matshow(x_test[0])"
      ],
      "execution_count": null,
      "outputs": [
        {
          "output_type": "execute_result",
          "data": {
            "text/plain": [
              "<matplotlib.image.AxesImage at 0x7fb169cb63d0>"
            ]
          },
          "metadata": {
            "tags": []
          },
          "execution_count": 21
        },
        {
          "output_type": "display_data",
          "data": {
            "image/png": "[encoded data removed]",
            "text/plain": [
              "<Figure size 288x288 with 1 Axes>"
            ]
          },
          "metadata": {
            "tags": [],
            "needs_background": "light"
          }
        }
      ]
    },
    {
      "cell_type": "code",
      "metadata": {
        "id": "iweUaJd2pltT"
      },
      "source": [
        "y_predict = model.predict(x_test_flatten)"
      ],
      "execution_count": null,
      "outputs": []
    },
    {
      "cell_type": "code",
      "metadata": {
        "colab": {
          "base_uri": "https://localhost:8080/"
        },
        "id": "xyFsJq6UplwJ",
        "outputId": "5ed68c79-9a3b-4eea-e19d-14befa359fea"
      },
      "source": [
        "y_predict[0]"
      ],
      "execution_count": null,
      "outputs": [
        {
          "output_type": "execute_result",
          "data": {
            "text/plain": [
              "array([0.0000000e+00, 0.0000000e+00, 3.9598103e-11, 1.0000000e+00,\n",
              "       2.8179707e-14, 3.8626492e-03, 0.0000000e+00, 1.0000000e+00,\n",
              "       1.0000000e+00, 1.0000000e+00], dtype=float32)"
            ]
          },
          "metadata": {
            "tags": []
          },
          "execution_count": 24
        }
      ]
    },
    {
      "cell_type": "code",
      "metadata": {
        "colab": {
          "base_uri": "https://localhost:8080/"
        },
        "id": "FnxCw9GxplzK",
        "outputId": "257b92d1-7f5f-4c68-c4ab-abac45c866ad"
      },
      "source": [
        "np.argmax(y_predict[0])"
      ],
      "execution_count": null,
      "outputs": [
        {
          "output_type": "execute_result",
          "data": {
            "text/plain": [
              "3"
            ]
          },
          "metadata": {
            "tags": []
          },
          "execution_count": 25
        }
      ]
    },
    {
      "cell_type": "code",
      "metadata": {
        "colab": {
          "base_uri": "https://localhost:8080/",
          "height": 292
        },
        "id": "OfSM3Avcqeqb",
        "outputId": "4c18a582-9365-4430-8606-f6f62caa33e1"
      },
      "source": [
        "plt.matshow(x_test[5])"
      ],
      "execution_count": null,
      "outputs": [
        {
          "output_type": "execute_result",
          "data": {
            "text/plain": [
              "<matplotlib.image.AxesImage at 0x7fb168a31610>"
            ]
          },
          "metadata": {
            "tags": []
          },
          "execution_count": 29
        },
        {
          "output_type": "display_data",
          "data": {
            "image/png": "[encoded data removed]",
            "text/plain": [
              "<Figure size 288x288 with 1 Axes>"
            ]
          },
          "metadata": {
            "tags": [],
            "needs_background": "light"
          }
        }
      ]
    },
    {
      "cell_type": "code",
      "metadata": {
        "colab": {
          "base_uri": "https://localhost:8080/"
        },
        "id": "6KzKwo5Sqenb",
        "outputId": "996beba1-d7cc-40ab-b2ba-a344acf3d9e7"
      },
      "source": [
        "np.argmax(y_predict[5])"
      ],
      "execution_count": null,
      "outputs": [
        {
          "output_type": "execute_result",
          "data": {
            "text/plain": [
              "1"
            ]
          },
          "metadata": {
            "tags": []
          },
          "execution_count": 28
        }
      ]
    },
    {
      "cell_type": "code",
      "metadata": {
        "colab": {
          "base_uri": "https://localhost:8080/"
        },
        "id": "ILzCZTlDqetU",
        "outputId": "638e61a2-b856-4d87-cc5b-6e333493b233"
      },
      "source": [
        "y_predict_labels = [np.argmax(i) for i in y_predict]\n",
        "y_predict_labels[:5]"
      ],
      "execution_count": null,
      "outputs": [
        {
          "output_type": "execute_result",
          "data": {
            "text/plain": [
              "[3, 0, 1, 0, 4]"
            ]
          },
          "metadata": {
            "tags": []
          },
          "execution_count": 30
        }
      ]
    },
    {
      "cell_type": "code",
      "metadata": {
        "colab": {
          "base_uri": "https://localhost:8080/"
        },
        "id": "X0RTxjB8qewQ",
        "outputId": "37db2a2b-479c-4e8c-dcf3-10b42178a25b"
      },
      "source": [
        "y_test[:5]"
      ],
      "execution_count": null,
      "outputs": [
        {
          "output_type": "execute_result",
          "data": {
            "text/plain": [
              "array([7, 2, 1, 0, 4], dtype=uint8)"
            ]
          },
          "metadata": {
            "tags": []
          },
          "execution_count": 31
        }
      ]
    },
    {
      "cell_type": "code",
      "metadata": {
        "colab": {
          "base_uri": "https://localhost:8080/"
        },
        "id": "u7dmHgQysXbd",
        "outputId": "471bff08-eb18-4e38-a929-06b5273ea228"
      },
      "source": [
        "cm = tf.math.confusion_matrix(labels = y_test , predictions = y_predict_labels)\n",
        "cm"
      ],
      "execution_count": null,
      "outputs": [
        {
          "output_type": "execute_result",
          "data": {
            "text/plain": [
              "<tf.Tensor: shape=(10, 10), dtype=int32, numpy=\n",
              "array([[ 973,    0,    2,    2,    2,    1,    0,    0,    0,    0],\n",
              "       [   1, 1131,    1,    0,    0,    1,    0,    0,    0,    1],\n",
              "       [  64,  388,  570,    3,    6,    0,    1,    0,    0,    0],\n",
              "       [  87,  532,  241,  149,    1,    0,    0,    0,    0,    0],\n",
              "       [  20,  138,  130,   75,  619,    0,    0,    0,    0,    0],\n",
              "       [ 109,  204,  169,  205,  123,   81,    0,    0,    1,    0],\n",
              "       [ 137,  208,  553,    9,   31,   11,    9,    0,    0,    0],\n",
              "       [  42,  128,  238,  540,   65,    8,    0,    6,    1,    0],\n",
              "       [  39,  519,  264,   63,   51,   29,    0,    5,    4,    0],\n",
              "       [  18,  138,   85,  333,  419,    1,    0,    4,    2,    9]],\n",
              "      dtype=int32)>"
            ]
          },
          "metadata": {
            "tags": []
          },
          "execution_count": 32
        }
      ]
    },
    {
      "cell_type": "code",
      "metadata": {
        "colab": {
          "base_uri": "https://localhost:8080/",
          "height": 460
        },
        "id": "8p1ORXEysXeu",
        "outputId": "e236fbed-25d8-4690-ff7c-9416f7973945"
      },
      "source": [
        "import seaborn as sn\n",
        "plt.figure(figsize = (10,7))\n",
        "sn.heatmap(cm , annot = True , fmt = 'd')\n",
        "plt.xlabel('Predicted')\n",
        "plt.ylabel('Truth')"
      ],
      "execution_count": null,
      "outputs": [
        {
          "output_type": "execute_result",
          "data": {
            "text/plain": [
              "Text(69.0, 0.5, 'Truth')"
            ]
          },
          "metadata": {
            "tags": []
          },
          "execution_count": 36
        },
        {
          "output_type": "display_data",
          "data": {
            "image/png": "[encoded data removed]",
            "text/plain": [
              "<Figure size 720x504 with 2 Axes>"
            ]
          },
          "metadata": {
            "tags": [],
            "needs_background": "light"
          }
        }
      ]
    },
    {
      "cell_type": "markdown",
      "metadata": {
        "id": "OAENtPPPvbfn"
      },
      "source": [
        "# adding hidden layer"
      ]
    },
    {
      "cell_type": "code",
      "metadata": {
        "colab": {
          "base_uri": "https://localhost:8080/"
        },
        "id": "0lgr2aXssXiH",
        "outputId": "0f18fbf4-49ba-40d9-928e-8229946b0a66"
      },
      "source": [
        "model = keras.Sequential([\n",
        "                          keras.layers.Dense(100 , input_shape=(784,) , activation= 'relu'),\n",
        "                          keras.layers.Dense(10 , activation= 'sigmoid')\n",
        "                          \n",
        "])\n",
        "\n",
        "model.compile(\n",
        "    optimizer = 'adam',\n",
        "    loss = 'sparse_categorical_crossentropy',\n",
        "    metrics = ['accuracy']\n",
        ")\n",
        "\n",
        "model.fit(x_train_flatten , y_train , epochs = 5)"
      ],
      "execution_count": null,
      "outputs": [
        {
          "output_type": "stream",
          "text": [
            "Epoch 1/5\n",
            "1875/1875 [==============================] - 5s 2ms/step - loss: 2.4391 - accuracy: 0.8437\n",
            "Epoch 2/5\n",
            "1875/1875 [==============================] - 4s 2ms/step - loss: 0.3850 - accuracy: 0.9057\n",
            "Epoch 3/5\n",
            "1875/1875 [==============================] - 5s 3ms/step - loss: 0.2839 - accuracy: 0.9268\n",
            "Epoch 4/5\n",
            "1875/1875 [==============================] - 4s 2ms/step - loss: 0.2534 - accuracy: 0.9348\n",
            "Epoch 5/5\n",
            "1875/1875 [==============================] - 4s 2ms/step - loss: 0.2303 - accuracy: 0.9418\n"
          ],
          "name": "stdout"
        },
        {
          "output_type": "execute_result",
          "data": {
            "text/plain": [
              "<tensorflow.python.keras.callbacks.History at 0x7fb159ce0e90>"
            ]
          },
          "metadata": {
            "tags": []
          },
          "execution_count": 38
        }
      ]
    },
    {
      "cell_type": "code",
      "metadata": {
        "colab": {
          "base_uri": "https://localhost:8080/"
        },
        "id": "rJIqkxG3sXko",
        "outputId": "cce51fcd-fca9-45bc-9b28-7ffb489ade05"
      },
      "source": [
        "#evaluating the accuracy on test dataset\n",
        "\n",
        "model.evaluate(x_test_flatten , y_test)"
      ],
      "execution_count": null,
      "outputs": [
        {
          "output_type": "stream",
          "text": [
            "313/313 [==============================] - 1s 2ms/step - loss: 0.2796 - accuracy: 0.9372\n"
          ],
          "name": "stdout"
        },
        {
          "output_type": "execute_result",
          "data": {
            "text/plain": [
              "[0.2796146869659424, 0.9372000098228455]"
            ]
          },
          "metadata": {
            "tags": []
          },
          "execution_count": 39
        }
      ]
    },
    {
      "cell_type": "code",
      "metadata": {
        "colab": {
          "base_uri": "https://localhost:8080/",
          "height": 460
        },
        "id": "h7-u_f22sXn3",
        "outputId": "eca0d6d7-7abd-4c7d-8d91-d8f3740ccaaa"
      },
      "source": [
        "y_predict = model.predict(x_test_flatten)\n",
        "y_predict_labels = [np.argmax(i) for i in y_predict]\n",
        "cm = tf.math.confusion_matrix(labels = y_test , predictions = y_predict_labels)\n",
        "\n",
        "import seaborn as sn\n",
        "plt.figure(figsize = (10,7))\n",
        "sn.heatmap(cm , annot = True , fmt = 'd')\n",
        "plt.xlabel('Predicted')\n",
        "plt.ylabel('Truth')"
      ],
      "execution_count": null,
      "outputs": [
        {
          "output_type": "execute_result",
          "data": {
            "text/plain": [
              "Text(69.0, 0.5, 'Truth')"
            ]
          },
          "metadata": {
            "tags": []
          },
          "execution_count": 40
        },
        {
          "output_type": "display_data",
          "data": {
            "image/png": "[encoded data removed]",
            "text/plain": [
              "<Figure size 720x504 with 2 Axes>"
            ]
          },
          "metadata": {
            "tags": [],
            "needs_background": "light"
          }
        }
      ]
    },
    {
      "cell_type": "markdown",
      "metadata": {
        "id": "CACSk59ExHun"
      },
      "source": [
        "**flattening using keras**"
      ]
    },
    {
      "cell_type": "code",
      "metadata": {
        "colab": {
          "base_uri": "https://localhost:8080/"
        },
        "id": "0I0hrcnpxDi5",
        "outputId": "26f94b53-5d88-4b46-b1ce-b2d2b256c8ca"
      },
      "source": [
        "model = keras.Sequential([\n",
        "                          keras.layers.Flatten(input_shape=(28,28)),\n",
        "                          keras.layers.Dense(100, activation= 'relu'),\n",
        "                          keras.layers.Dense(10 , activation= 'sigmoid')\n",
        "                          \n",
        "])\n",
        "\n",
        "model.compile(\n",
        "    optimizer = 'adam',\n",
        "    loss = 'sparse_categorical_crossentropy',\n",
        "    metrics = ['accuracy']\n",
        ")\n",
        "\n",
        "model.fit(x_train , y_train , epochs = 5)"
      ],
      "execution_count": null,
      "outputs": [
        {
          "output_type": "stream",
          "text": [
            "Epoch 1/5\n",
            "1875/1875 [==============================] - 5s 3ms/step - loss: 0.2738 - accuracy: 0.9214\n",
            "Epoch 2/5\n",
            "1875/1875 [==============================] - 3s 2ms/step - loss: 0.1261 - accuracy: 0.9619\n",
            "Epoch 3/5\n",
            "1875/1875 [==============================] - 3s 2ms/step - loss: 0.0879 - accuracy: 0.9731\n",
            "Epoch 4/5\n",
            "1875/1875 [==============================] - 3s 2ms/step - loss: 0.0666 - accuracy: 0.9797\n",
            "Epoch 5/5\n",
            "1875/1875 [==============================] - 3s 2ms/step - loss: 0.0516 - accuracy: 0.9842\n"
          ],
          "name": "stdout"
        },
        {
          "output_type": "execute_result",
          "data": {
            "text/plain": [
              "<tensorflow.python.keras.callbacks.History at 0x7fb157041ad0>"
            ]
          },
          "metadata": {
            "tags": []
          },
          "execution_count": 45
        }
      ]
    },
    {
      "cell_type": "code",
      "metadata": {
        "id": "hGi60J44xAfd"
      },
      "source": [
        ""
      ],
      "execution_count": null,
      "outputs": []
    },
    {
      "cell_type": "markdown",
      "metadata": {
        "id": "wZMCYvhfvpPQ"
      },
      "source": [
        "# Random basic program"
      ]
    },
    {
      "cell_type": "code",
      "metadata": {
        "id": "7ELA8AlDxAh4"
      },
      "source": [
        "import numpy as np"
      ],
      "execution_count": null,
      "outputs": []
    },
    {
      "cell_type": "code",
      "metadata": {
        "id": "lZqpFlqXxAqq",
        "colab": {
          "base_uri": "https://localhost:8080/"
        },
        "outputId": "5737984b-e2f2-4e2a-ff70-824f8671a7f0"
      },
      "source": [
        "def sigmoid(x):\n",
        "  return 1/(1+np.exp(-x))\n",
        "\n",
        "training_inputs = np.array([[0,0,1],\n",
        "                            [1,1,1],\n",
        "                            [1,0,1],\n",
        "                            [0,1,1]])\n",
        "\n",
        "training_outputs = np.array([[0,1,1,0]]).T\n",
        "\n",
        "np.random.seed(1)\n",
        "\n",
        "synaptic_weights = 2*np.random.random((3,1)) -1 \n",
        "\n",
        "print('Random starting synaptic weights: ')\n",
        "print(synaptic_weights)\n",
        "\n",
        "for iteration in range(1):\n",
        "\n",
        "  input_layer = training_inputs\n",
        "  outputs = sigmoid(np.dot(input_layer,synaptic_weights))\n",
        "\n",
        "print('Outputs after training: ')\n",
        "print(outputs)"
      ],
      "execution_count": null,
      "outputs": [
        {
          "output_type": "stream",
          "text": [
            "Random starting synaptic weights: \n",
            "[[-0.16595599]\n",
            " [ 0.44064899]\n",
            " [-0.99977125]]\n",
            "Outputs after training: \n",
            "[[0.2689864 ]\n",
            " [0.3262757 ]\n",
            " [0.23762817]\n",
            " [0.36375058]]\n"
          ],
          "name": "stdout"
        }
      ]
    },
    {
      "cell_type": "markdown",
      "metadata": {
        "id": "r-JIHiqlgtHD"
      },
      "source": [
        "# Loss or cost function"
      ]
    },
    {
      "cell_type": "code",
      "metadata": {
        "id": "fPO6gXNKeXTc"
      },
      "source": [
        "import numpy as np\n",
        "\n",
        "y_predicted = np.array([1,1,0,0,1])\n",
        "y_true = ([0.30,0.70,1,0,0.5])"
      ],
      "execution_count": null,
      "outputs": []
    },
    {
      "cell_type": "code",
      "metadata": {
        "id": "A-7cXOZneXXK"
      },
      "source": [
        "def mae(y_true,y_predicted):\n",
        "  total_error = 0\n",
        "  for yt, yp in zip(y_true,y_predicted):\n",
        "    total_error+=abs(yt-yp)\n",
        "  print(\"total error: \", total_error) \n",
        "\n",
        "  mae = total_error/len(y_true) \n",
        "  print(\"mean absolute error: \", mae)"
      ],
      "execution_count": null,
      "outputs": []
    },
    {
      "cell_type": "code",
      "metadata": {
        "colab": {
          "base_uri": "https://localhost:8080/"
        },
        "id": "cKi1tjJ5eXZ8",
        "outputId": "541a8579-8851-4449-c281-a8aa886069a6"
      },
      "source": [
        "mae(y_true,y_predicted)"
      ],
      "execution_count": null,
      "outputs": [
        {
          "output_type": "stream",
          "text": [
            "total error:  2.5\n",
            "mean absolute error:  0.5\n"
          ],
          "name": "stdout"
        }
      ]
    },
    {
      "cell_type": "code",
      "metadata": {
        "colab": {
          "base_uri": "https://localhost:8080/"
        },
        "id": "mdh1sYuieXcT",
        "outputId": "feb48fd8-013e-4495-c32a-b9496941cd43"
      },
      "source": [
        "print('total error = ',np.sum(np.abs(y_predicted - y_true)))\n",
        "print('mean abs error = ',np.mean(np.abs(y_predicted - y_true)))"
      ],
      "execution_count": null,
      "outputs": [
        {
          "output_type": "stream",
          "text": [
            "total error =  2.5\n",
            "mean abs error =  0.5\n"
          ],
          "name": "stdout"
        }
      ]
    },
    {
      "cell_type": "code",
      "metadata": {
        "id": "kwD35cgieXfe"
      },
      "source": [
        ""
      ],
      "execution_count": null,
      "outputs": []
    },
    {
      "cell_type": "markdown",
      "metadata": {
        "id": "sXS42zXaNWhH"
      },
      "source": [
        "# Based on the document"
      ]
    },
    {
      "cell_type": "code",
      "metadata": {
        "id": "4wcceEAqeXyv"
      },
      "source": [
        "import numpy as np\n",
        "\n",
        "class Perceptron(object):\n",
        "  def __init__(self, input_size, lr=0.5, epochs=10):\n",
        "    self.W = np.zeros(input_size+1)\n",
        "    self.epochs = epochs\n",
        "    self.lr = lr\n",
        "\n",
        "  #implement activation fun\n",
        "  def activation_fn(self, x):\n",
        "    return 1 if x >= 0 else 0\n",
        "\n",
        "  def predict(self, x):\n",
        "    z = self.W.T.dot(x)\n",
        "    a = self.activation_fn(z)\n",
        "    return a\n",
        "\n",
        "  def fit(self, X, d):\n",
        "    for _ in range(self.epochs):\n",
        "      for i in range(d.shape[0]):\n",
        "        x = np.insert(X[i], 0, 1)\n",
        "        y = self.predict(x)\n",
        "        e = d[i] - y\n",
        "        self.W = self.W + self.lr * e * x"
      ],
      "execution_count": null,
      "outputs": []
    },
    {
      "cell_type": "code",
      "metadata": {
        "id": "sUIrnJoaeX4j",
        "colab": {
          "base_uri": "https://localhost:8080/"
        },
        "outputId": "fad60605-661f-4c9f-a5d8-dadde78f1666"
      },
      "source": [
        "if __name__ == '__main__':\n",
        "  X = np.array([\n",
        "                [0, 0], \n",
        "                [0, 1], \n",
        "                [1, 0], \n",
        "                [1, 1]\n",
        "  ])\n",
        "  d = np.array([0, 0, 0, 1])\n",
        "  perceptron = Perceptron(input_size=2)\n",
        "  perceptron.fit(X, d)\n",
        "  print(perceptron.W)"
      ],
      "execution_count": null,
      "outputs": [
        {
          "output_type": "stream",
          "text": [
            "[-1.5  1.   0.5]\n"
          ],
          "name": "stdout"
        }
      ]
    },
    {
      "cell_type": "code",
      "metadata": {
        "id": "2ST33qi_OSU2"
      },
      "source": [
        ""
      ],
      "execution_count": null,
      "outputs": []
    },
    {
      "cell_type": "markdown",
      "metadata": {
        "id": "k84kD10W1jk3"
      },
      "source": [
        "# Assignment"
      ]
    },
    {
      "cell_type": "code",
      "metadata": {
        "id": "oNZ4HsR6OSfy",
        "colab": {
          "base_uri": "https://localhost:8080/"
        },
        "outputId": "545b7d68-85db-4279-f32c-19054367be0c"
      },
      "source": [
        "import numpy as np\n",
        "\n",
        "#activation fun\n",
        "def sigmoid(x):\n",
        "  return(1/1+np.exp(-x))\n",
        "\n",
        "#inputs\n",
        "x1 = 3\n",
        "x2 = 2\n",
        "\n",
        "#weights\n",
        "w1 = 0.11\n",
        "w2 = 0.21\n",
        "w3 = 0.12\n",
        "w4 = 0.08\n",
        "w5 = 0.14\n",
        "w6 = 0.15\n",
        "\n",
        "#biases\n",
        "b1 = 0.3\n",
        "b2 = 0.4\n",
        "net_a1 = 0\n",
        "net_a2 = 0\n",
        "out_a1 = 0\n",
        "out_a2 = 0\n",
        "net_o = 0\n",
        "out_o = 0\n",
        "\n",
        "lr = 0.5\n",
        "iter = 1000000\n",
        "threshold = 0.001\n",
        "convergence_step = 0\n",
        "\n",
        "for i in range(iter):\n",
        "  net_a1 = w3*x2 + w4*x1 + b1*1\n",
        "  net_a2 = w1*x2 + w2*x1 + b1*1\n",
        "  out_a1 = sigmoid(net_a1)\n",
        "  out_a2 = sigmoid(net_a2)\n",
        "  net_o  = w5*out_a2 + w6*out_a1 + b2*1\n",
        "  out_o  = sigmoid(net_o)\n",
        "\n",
        "  # condition for convergence\n",
        "  if abs(out_o - 1) < threshold:\n",
        "      convergence_step = i\n",
        "      break\n",
        "\n",
        "  # First iteration output is closer to 1 So take target = 1\n",
        "  target = 1\n",
        "\n",
        "  # error\n",
        "  E_total = (1/2)*(target - out_o)**2  \n",
        "\n",
        "  # w5 and w6 error dependency\n",
        "  dEdout_o = -1*(target - out_o)\n",
        "  dout_odnet_o = out_o*(1 - out_o)\n",
        "  dnet_odw5 = out_a2\n",
        "  dEdw5 = dEdout_o * dout_odnet_o * dnet_odw5\n",
        "  dnet_odw6 = out_a1\n",
        "  dEdw6 = dEdout_o * dout_odnet_o * dnet_odw6\n",
        "\n",
        "  # w1 error dependency\n",
        "  dnet_odout_a2 = w5\n",
        "  dout_a2dnet_a2 = out_a2*(1 - out_a2)\n",
        "  dnet_a2dw1 = x2 \n",
        "  dEdw1 = dEdout_o * dout_odnet_o * dnet_odout_a2 * dout_a2dnet_a2 *dnet_a2dw1\n",
        "\n",
        "  # w2 error dependency\n",
        "  dnet_a2dw2 = x1\n",
        "  dEdw2 = dEdout_o * dout_odnet_o * dnet_odout_a2 * dout_a2dnet_a2 *dnet_a2dw2 \n",
        "\n",
        "  # w3 error dependency\n",
        "  dnet_odout_a1 = w6\n",
        "  dout_a1dnet_a1 = out_a1*(1 - out_a1)\n",
        "  dnet_a1dw3 = x1\n",
        "  dEdw3 = dEdout_o * dout_odnet_o * dnet_odout_a1 * dout_a1dnet_a1 *dnet_a1dw3\n",
        "\n",
        "  # w4 error dependency\n",
        "  dnet_a1dw4 = x1\n",
        "  dEdw4 = dEdout_o * dout_odnet_o * dnet_odout_a1 * dout_a1dnet_a1 *dnet_a1dw4\n",
        "\n",
        "  # Updating the weights\n",
        "  w1 = w1 - lr * dEdw1\n",
        "  w2 = w2 - lr * dEdw2\n",
        "  w3 = w3 - lr * dEdw3\n",
        "  w4 = w4 - lr * dEdw4\n",
        "  w5 = w5 - lr * dEdw5\n",
        "  w6 = w6 - lr * dEdw6\n",
        "\n",
        "print('Convergence occurs at',convergence_step,'th step with \\u03B7 = 0.5')\n",
        "print('Convergence criterion : true value - output value < 0.001')\n",
        "\n",
        "print('out_o = ',out_o)\n"
      ],
      "execution_count": null,
      "outputs": [
        {
          "output_type": "stream",
          "text": [
            "Convergence occurs at 392 th step with η = 0.5\n",
            "Convergence criterion : true value - output value < 0.001\n",
            "out_o =  1.0009988753782748\n"
          ],
          "name": "stdout"
        }
      ]
    },
    {
      "cell_type": "code",
      "metadata": {
        "id": "F7DhXhUHbQfV"
      },
      "source": [
        ""
      ],
      "execution_count": null,
      "outputs": []
    },
    {
      "cell_type": "code",
      "metadata": {
        "id": "vMfPOfk-xGZE"
      },
      "source": [
        ""
      ],
      "execution_count": null,
      "outputs": []
    },
    {
      "cell_type": "code",
      "metadata": {
        "id": "TB1ZT2pUOSoQ",
        "colab": {
          "base_uri": "https://localhost:8080/"
        },
        "outputId": "557e39ca-5635-41df-9d38-7636149bcbb3"
      },
      "source": [
        "import numpy as np\n",
        "import math\n",
        "\n",
        "def sig(x):\n",
        " return 1/(1 + np.exp(-x))\n",
        "\n",
        "weights = [0.11 ,0.21,0.12 ,0.08,0.14,0.15 ]\n",
        "bias = [0.3,0.4]\n",
        "inputs = [2,3]\n",
        "threshold = 0.001\n",
        "iter = 10000000\n",
        "neta=0.6\n",
        "\n",
        "for i in range(iter):\n",
        "  net_a2 = weights[1]*inputs[0] + weights[0]*inputs[1] + bias[0]\n",
        "  net_a1 = weights[3]*inputs[0] + weights[2]*inputs[1] + bias[0]\n",
        "  out_a2 = sig(net_a2)\n",
        "  out_a1 = sig(net_a1)\n",
        "  net_out = weights[4]*out_a2 + weights[5]*out_a1 +bias[1]\n",
        "  output = sig(net_out)\n",
        "\n",
        "  if abs(output-1) < threshold:\n",
        "    convergence = i\n",
        "    break\n",
        "   \n",
        "  ### Error Calculation\n",
        "\n",
        "  error = 0.5 * pow((1-output),2)\n",
        "\n",
        "  ### Change in Weights\n",
        "\n",
        "  delw1 = (output-1) * output * (1-output) * weights[4] * out_a2*(1-out_a2) * inputs[0]\n",
        "  delw2 = (output-1) * output * (1-output) * weights[4] * out_a2*(1-out_a2) * inputs[1]\n",
        "  delw3 = (output-1) * output * (1-output) * weights[5] * out_a1*(1-out_a1) * inputs[0]\n",
        "  delw4 = (output-1) * output * (1-output) * weights[5] * out_a1*(1-out_a1) * inputs[1]\n",
        "  delw5 = (output-1) * output * (1-output) * out_a2\n",
        "  delw6 = (output-1) * output * (1-output) * out_a1\n",
        "\n",
        "  ### Updation in weights\n",
        "  weights[0] = weights[0] - (neta * delw1)\n",
        "  weights[1] = weights[1] - (neta * delw2)\n",
        "  weights[2] = weights[2] - (neta * delw3)\n",
        "  weights[3] = weights[3] - (neta * delw4)\n",
        "  weights[4] = weights[4] - (neta * delw5)\n",
        "  weights[5] = weights[5] - (neta * delw6)\n",
        "\n",
        "print(\"convergence occurs at the step when \\u03B7 = 0.6:\",convergence)\n",
        "\n",
        "print(weights)"
      ],
      "execution_count": null,
      "outputs": [
        {
          "output_type": "stream",
          "text": [
            "convergence occurs at the step when η = 0.6: 418895\n",
            "[0.6324674753770839, 0.9937012130655791, 0.6754569705576186, 0.9131854558363921, 3.319850041945741, 3.2875775289186477]\n"
          ],
          "name": "stdout"
        }
      ]
    },
    {
      "cell_type": "code",
      "metadata": {
        "id": "0YhIhgTVOSq6"
      },
      "source": [
        ""
      ],
      "execution_count": null,
      "outputs": []
    }
  ]
}