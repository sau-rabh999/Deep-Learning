{
  "nbformat": 4,
  "nbformat_minor": 0,
  "metadata": {
    "colab": {
      "name": "RNN implementation for SentimentAnalysis.ipynb",
      "provenance": [],
      "authorship_tag": "ABX9TyP6wTg+ZNP2mkUV1BEmh7Uj",
      "include_colab_link": true
    },
    "kernelspec": {
      "name": "python3",
      "display_name": "Python 3"
    },
    "language_info": {
      "name": "python"
    }
  },
  "cells": [
    {
      "cell_type": "markdown",
      "metadata": {
        "id": "view-in-github",
        "colab_type": "text"
      },
      "source": [
        "<a href=\"https://colab.research.google.com/github/sau-rabh999/Deep-Learning/blob/main/RNN_implementation_for_SentimentAnalysis.ipynb\" target=\"_parent\"><img src=\"https://colab.research.google.com/assets/colab-badge.svg\" alt=\"Open In Colab\"/></a>"
      ]
    },
    {
      "cell_type": "markdown",
      "metadata": {
        "id": "jHllaxpeIQkY"
      },
      "source": [
        "importing all libraries"
      ]
    },
    {
      "cell_type": "code",
      "metadata": {
        "id": "GYrhJrizHV2d"
      },
      "source": [
        "import re\n",
        "import numpy as np\n",
        "import pandas as pd\n",
        "import matplotlib.pyplot as plt\n",
        "from sklearn.model_selection import train_test_split\n",
        "\n",
        "from keras.models import Sequential, load_model\n",
        "from keras.layers import Dense, LSTM, Embedding, Dropout\n",
        "from keras.preprocessing.text import Tokenizer\n",
        "from keras.preprocessing.sequence import pad_sequences"
      ],
      "execution_count": null,
      "outputs": []
    },
    {
      "cell_type": "markdown",
      "metadata": {
        "id": "2VFkGedkJAmE"
      },
      "source": [
        "Importing the dataset"
      ]
    },
    {
      "cell_type": "code",
      "metadata": {
        "colab": {
          "base_uri": "https://localhost:8080/"
        },
        "id": "IO04bQlpIfg9",
        "outputId": "76ef7839-4247-4ece-cb51-232f10136182"
      },
      "source": [
        "df = pd.read_csv('Tweets.csv')\n",
        "df = df.sample(frac=1).reset_index(drop=True)\n",
        "df.shape"
      ],
      "execution_count": null,
      "outputs": [
        {
          "output_type": "execute_result",
          "data": {
            "text/plain": [
              "(14640, 15)"
            ]
          },
          "metadata": {
            "tags": []
          },
          "execution_count": 5
        }
      ]
    },
    {
      "cell_type": "code",
      "metadata": {
        "colab": {
          "base_uri": "https://localhost:8080/",
          "height": 505
        },
        "id": "qFSGnUvDJqPh",
        "outputId": "67eca660-19bb-40be-a24e-d3d8f33d7b11"
      },
      "source": [
        "df.head()"
      ],
      "execution_count": null,
      "outputs": [
        {
          "output_type": "execute_result",
          "data": {
            "text/html": [
              "<div>\n",
              "<style scoped>\n",
              "    .dataframe tbody tr th:only-of-type {\n",
              "        vertical-align: middle;\n",
              "    }\n",
              "\n",
              "    .dataframe tbody tr th {\n",
              "        vertical-align: top;\n",
              "    }\n",
              "\n",
              "    .dataframe thead th {\n",
              "        text-align: right;\n",
              "    }\n",
              "</style>\n",
              "<table border=\"1\" class=\"dataframe\">\n",
              "  <thead>\n",
              "    <tr style=\"text-align: right;\">\n",
              "      <th></th>\n",
              "      <th>tweet_id</th>\n",
              "      <th>airline_sentiment</th>\n",
              "      <th>airline_sentiment_confidence</th>\n",
              "      <th>negativereason</th>\n",
              "      <th>negativereason_confidence</th>\n",
              "      <th>airline</th>\n",
              "      <th>airline_sentiment_gold</th>\n",
              "      <th>name</th>\n",
              "      <th>negativereason_gold</th>\n",
              "      <th>retweet_count</th>\n",
              "      <th>text</th>\n",
              "      <th>tweet_coord</th>\n",
              "      <th>tweet_created</th>\n",
              "      <th>tweet_location</th>\n",
              "      <th>user_timezone</th>\n",
              "    </tr>\n",
              "  </thead>\n",
              "  <tbody>\n",
              "    <tr>\n",
              "      <th>0</th>\n",
              "      <td>568458999798108160</td>\n",
              "      <td>negative</td>\n",
              "      <td>1.0000</td>\n",
              "      <td>Can't Tell</td>\n",
              "      <td>1.0000</td>\n",
              "      <td>United</td>\n",
              "      <td>NaN</td>\n",
              "      <td>sherrirosen</td>\n",
              "      <td>NaN</td>\n",
              "      <td>0</td>\n",
              "      <td>@united I must stop my relationship with you. ...</td>\n",
              "      <td>[0.0, 0.0]</td>\n",
              "      <td>2015-02-19 09:16:01 -0800</td>\n",
              "      <td>New York City</td>\n",
              "      <td>Eastern Time (US &amp; Canada)</td>\n",
              "    </tr>\n",
              "    <tr>\n",
              "      <th>1</th>\n",
              "      <td>569275554110664705</td>\n",
              "      <td>negative</td>\n",
              "      <td>0.6667</td>\n",
              "      <td>Late Flight</td>\n",
              "      <td>0.3333</td>\n",
              "      <td>Delta</td>\n",
              "      <td>NaN</td>\n",
              "      <td>Evecotto</td>\n",
              "      <td>NaN</td>\n",
              "      <td>0</td>\n",
              "      <td>@JetBlue no more than half an hour wait. It's ...</td>\n",
              "      <td>NaN</td>\n",
              "      <td>2015-02-21 15:20:43 -0800</td>\n",
              "      <td>NaN</td>\n",
              "      <td>NaN</td>\n",
              "    </tr>\n",
              "    <tr>\n",
              "      <th>2</th>\n",
              "      <td>569935951868207104</td>\n",
              "      <td>neutral</td>\n",
              "      <td>1.0000</td>\n",
              "      <td>NaN</td>\n",
              "      <td>NaN</td>\n",
              "      <td>Delta</td>\n",
              "      <td>NaN</td>\n",
              "      <td>uKnowMySteez</td>\n",
              "      <td>NaN</td>\n",
              "      <td>1</td>\n",
              "      <td>😐 “@JetBlue: Our fleet's on fleek. http://t.co...</td>\n",
              "      <td>NaN</td>\n",
              "      <td>2015-02-23 11:04:54 -0800</td>\n",
              "      <td>MPLS</td>\n",
              "      <td>Central Time (US &amp; Canada)</td>\n",
              "    </tr>\n",
              "    <tr>\n",
              "      <th>3</th>\n",
              "      <td>569316417226600448</td>\n",
              "      <td>negative</td>\n",
              "      <td>1.0000</td>\n",
              "      <td>Late Flight</td>\n",
              "      <td>0.6427</td>\n",
              "      <td>United</td>\n",
              "      <td>NaN</td>\n",
              "      <td>tarlonious</td>\n",
              "      <td>NaN</td>\n",
              "      <td>0</td>\n",
              "      <td>@united and waiting</td>\n",
              "      <td>NaN</td>\n",
              "      <td>2015-02-21 18:03:05 -0800</td>\n",
              "      <td>NaN</td>\n",
              "      <td>NaN</td>\n",
              "    </tr>\n",
              "    <tr>\n",
              "      <th>4</th>\n",
              "      <td>568725291247525888</td>\n",
              "      <td>negative</td>\n",
              "      <td>1.0000</td>\n",
              "      <td>Can't Tell</td>\n",
              "      <td>0.6744</td>\n",
              "      <td>US Airways</td>\n",
              "      <td>NaN</td>\n",
              "      <td>RVangutenberg</td>\n",
              "      <td>NaN</td>\n",
              "      <td>0</td>\n",
              "      <td>@USAirways NEVER AGAIN! Worse experience in my...</td>\n",
              "      <td>NaN</td>\n",
              "      <td>2015-02-20 02:54:10 -0800</td>\n",
              "      <td>Puerto Rico</td>\n",
              "      <td>NaN</td>\n",
              "    </tr>\n",
              "  </tbody>\n",
              "</table>\n",
              "</div>"
            ],
            "text/plain": [
              "             tweet_id  ...               user_timezone\n",
              "0  568458999798108160  ...  Eastern Time (US & Canada)\n",
              "1  569275554110664705  ...                         NaN\n",
              "2  569935951868207104  ...  Central Time (US & Canada)\n",
              "3  569316417226600448  ...                         NaN\n",
              "4  568725291247525888  ...                         NaN\n",
              "\n",
              "[5 rows x 15 columns]"
            ]
          },
          "metadata": {
            "tags": []
          },
          "execution_count": 6
        }
      ]
    },
    {
      "cell_type": "markdown",
      "metadata": {
        "id": "RGTCqrA-J0di"
      },
      "source": [
        "Taking only the relevant columns into consideration"
      ]
    },
    {
      "cell_type": "code",
      "metadata": {
        "colab": {
          "base_uri": "https://localhost:8080/",
          "height": 202
        },
        "id": "DfpVuftoJswr",
        "outputId": "716d0a89-1f67-41f6-df43-bc740afb8014"
      },
      "source": [
        "df = df[['airline_sentiment','text']]\n",
        "df.head()"
      ],
      "execution_count": null,
      "outputs": [
        {
          "output_type": "execute_result",
          "data": {
            "text/html": [
              "<div>\n",
              "<style scoped>\n",
              "    .dataframe tbody tr th:only-of-type {\n",
              "        vertical-align: middle;\n",
              "    }\n",
              "\n",
              "    .dataframe tbody tr th {\n",
              "        vertical-align: top;\n",
              "    }\n",
              "\n",
              "    .dataframe thead th {\n",
              "        text-align: right;\n",
              "    }\n",
              "</style>\n",
              "<table border=\"1\" class=\"dataframe\">\n",
              "  <thead>\n",
              "    <tr style=\"text-align: right;\">\n",
              "      <th></th>\n",
              "      <th>airline_sentiment</th>\n",
              "      <th>text</th>\n",
              "    </tr>\n",
              "  </thead>\n",
              "  <tbody>\n",
              "    <tr>\n",
              "      <th>0</th>\n",
              "      <td>negative</td>\n",
              "      <td>@united I must stop my relationship with you. ...</td>\n",
              "    </tr>\n",
              "    <tr>\n",
              "      <th>1</th>\n",
              "      <td>negative</td>\n",
              "      <td>@JetBlue no more than half an hour wait. It's ...</td>\n",
              "    </tr>\n",
              "    <tr>\n",
              "      <th>2</th>\n",
              "      <td>neutral</td>\n",
              "      <td>😐 “@JetBlue: Our fleet's on fleek. http://t.co...</td>\n",
              "    </tr>\n",
              "    <tr>\n",
              "      <th>3</th>\n",
              "      <td>negative</td>\n",
              "      <td>@united and waiting</td>\n",
              "    </tr>\n",
              "    <tr>\n",
              "      <th>4</th>\n",
              "      <td>negative</td>\n",
              "      <td>@USAirways NEVER AGAIN! Worse experience in my...</td>\n",
              "    </tr>\n",
              "  </tbody>\n",
              "</table>\n",
              "</div>"
            ],
            "text/plain": [
              "  airline_sentiment                                               text\n",
              "0          negative  @united I must stop my relationship with you. ...\n",
              "1          negative  @JetBlue no more than half an hour wait. It's ...\n",
              "2           neutral  😐 “@JetBlue: Our fleet's on fleek. http://t.co...\n",
              "3          negative                                @united and waiting\n",
              "4          negative  @USAirways NEVER AGAIN! Worse experience in my..."
            ]
          },
          "metadata": {
            "tags": []
          },
          "execution_count": 7
        }
      ]
    },
    {
      "cell_type": "markdown",
      "metadata": {
        "id": "k9qGDZgsKIAw"
      },
      "source": [
        "Data exploration"
      ]
    },
    {
      "cell_type": "code",
      "metadata": {
        "colab": {
          "base_uri": "https://localhost:8080/",
          "height": 316
        },
        "id": "jlfroXR1KKZu",
        "outputId": "5e74fd4e-74bc-412d-fca3-72684d8979e9"
      },
      "source": [
        "df['airline_sentiment'].value_counts().sort_index().plot.bar()"
      ],
      "execution_count": null,
      "outputs": [
        {
          "output_type": "execute_result",
          "data": {
            "text/plain": [
              "<matplotlib.axes._subplots.AxesSubplot at 0x7f8ae7547d90>"
            ]
          },
          "metadata": {
            "tags": []
          },
          "execution_count": 9
        },
        {
          "output_type": "display_data",
          "data": {
            "image/png": "[encoded data removed]",
            "text/plain": [
              "<Figure size 432x288 with 1 Axes>"
            ]
          },
          "metadata": {
            "tags": [],
            "needs_background": "light"
          }
        }
      ]
    },
    {
      "cell_type": "code",
      "metadata": {
        "colab": {
          "base_uri": "https://localhost:8080/",
          "height": 282
        },
        "id": "6ebu813GKopp",
        "outputId": "e4efda20-9970-4704-ae1c-21d0861570cb"
      },
      "source": [
        "df['text'].str.len().plot.hist()"
      ],
      "execution_count": null,
      "outputs": [
        {
          "output_type": "execute_result",
          "data": {
            "text/plain": [
              "<matplotlib.axes._subplots.AxesSubplot at 0x7f8ae7015350>"
            ]
          },
          "metadata": {
            "tags": []
          },
          "execution_count": 11
        },
        {
          "output_type": "display_data",
          "data": {
            "image/png": "[encoded data removed]",
            "text/plain": [
              "<Figure size 432x288 with 1 Axes>"
            ]
          },
          "metadata": {
            "tags": [],
            "needs_background": "light"
          }
        }
      ]
    },
    {
      "cell_type": "markdown",
      "metadata": {
        "id": "OCyNP88rLODX"
      },
      "source": [
        "**Preprocessing**"
      ]
    },
    {
      "cell_type": "code",
      "metadata": {
        "colab": {
          "base_uri": "https://localhost:8080/",
          "height": 202
        },
        "id": "RkaTY_urLTx7",
        "outputId": "50083e59-e68d-417c-eff8-c48e543bbe7d"
      },
      "source": [
        "df['text'] = df['text'].str.replace('@VirginAmerica','')\n",
        "df.head()"
      ],
      "execution_count": null,
      "outputs": [
        {
          "output_type": "execute_result",
          "data": {
            "text/html": [
              "<div>\n",
              "<style scoped>\n",
              "    .dataframe tbody tr th:only-of-type {\n",
              "        vertical-align: middle;\n",
              "    }\n",
              "\n",
              "    .dataframe tbody tr th {\n",
              "        vertical-align: top;\n",
              "    }\n",
              "\n",
              "    .dataframe thead th {\n",
              "        text-align: right;\n",
              "    }\n",
              "</style>\n",
              "<table border=\"1\" class=\"dataframe\">\n",
              "  <thead>\n",
              "    <tr style=\"text-align: right;\">\n",
              "      <th></th>\n",
              "      <th>airline_sentiment</th>\n",
              "      <th>text</th>\n",
              "    </tr>\n",
              "  </thead>\n",
              "  <tbody>\n",
              "    <tr>\n",
              "      <th>0</th>\n",
              "      <td>negative</td>\n",
              "      <td>@united I must stop my relationship with you. ...</td>\n",
              "    </tr>\n",
              "    <tr>\n",
              "      <th>1</th>\n",
              "      <td>negative</td>\n",
              "      <td>@JetBlue no more than half an hour wait. It's ...</td>\n",
              "    </tr>\n",
              "    <tr>\n",
              "      <th>2</th>\n",
              "      <td>neutral</td>\n",
              "      <td>😐 “@JetBlue: Our fleet's on fleek. http://t.co...</td>\n",
              "    </tr>\n",
              "    <tr>\n",
              "      <th>3</th>\n",
              "      <td>negative</td>\n",
              "      <td>@united and waiting</td>\n",
              "    </tr>\n",
              "    <tr>\n",
              "      <th>4</th>\n",
              "      <td>negative</td>\n",
              "      <td>@USAirways NEVER AGAIN! Worse experience in my...</td>\n",
              "    </tr>\n",
              "  </tbody>\n",
              "</table>\n",
              "</div>"
            ],
            "text/plain": [
              "  airline_sentiment                                               text\n",
              "0          negative  @united I must stop my relationship with you. ...\n",
              "1          negative  @JetBlue no more than half an hour wait. It's ...\n",
              "2           neutral  😐 “@JetBlue: Our fleet's on fleek. http://t.co...\n",
              "3          negative                                @united and waiting\n",
              "4          negative  @USAirways NEVER AGAIN! Worse experience in my..."
            ]
          },
          "metadata": {
            "tags": []
          },
          "execution_count": 12
        }
      ]
    },
    {
      "cell_type": "code",
      "metadata": {
        "colab": {
          "base_uri": "https://localhost:8080/"
        },
        "id": "NLCpPs-BLh60",
        "outputId": "8a9710ef-eb5f-47e9-fd34-73cad709377c"
      },
      "source": [
        "df['text'].apply(lambda x : x.lower())\n",
        "df['text'] = df['text'].apply(lambda x : re.sub('[^a-zA-Z0-9\\s]', '', x))\n",
        "df['text'].head()"
      ],
      "execution_count": null,
      "outputs": [
        {
          "output_type": "execute_result",
          "data": {
            "text/plain": [
              "0    united I must stop my relationship with you Yo...\n",
              "1    JetBlue no more than half an hour wait Its unr...\n",
              "2        JetBlue Our fleets on fleek httptcoQavvlAXLkl\n",
              "3                                   united and waiting\n",
              "4    USAirways NEVER AGAIN Worse experience in my l...\n",
              "Name: text, dtype: object"
            ]
          },
          "metadata": {
            "tags": []
          },
          "execution_count": 13
        }
      ]
    },
    {
      "cell_type": "code",
      "metadata": {
        "colab": {
          "base_uri": "https://localhost:8080/"
        },
        "id": "6sTUEi4gNMxc",
        "outputId": "cf65f31c-cc7d-4862-afc8-67de551dd5f1"
      },
      "source": [
        "tokenizer = Tokenizer(num_words=5000, split=' ')\n",
        "tokenizer.fit_on_texts(df['text'].values)\n",
        "\n",
        "x = tokenizer.texts_to_sequences(df['text'].values)\n",
        "x = pad_sequences(x)\n",
        "x[:5]"
      ],
      "execution_count": null,
      "outputs": [
        {
          "output_type": "execute_result",
          "data": {
            "text/plain": [
              "array([[   0,    0,    0,    0,    0,    0,    0,    0,    0,    0,    0,\n",
              "           0,    0,    0,    5,    3,  774,  395,   11, 2718,   25,    6,\n",
              "         535, 1369, 3665,   10,   10,   53,  213, 2223, 2718,   14,   99],\n",
              "       [   0,    0,    0,    0,    0,    0,    0,    0,    0,    0,    0,\n",
              "           0,   17,   28,   98,  156,  463,   40,   90,  121,   64, 1593,\n",
              "         288,  149,   87,  468,   52, 1508,  435,    1,  170,    9,   29],\n",
              "       [   0,    0,    0,    0,    0,    0,    0,    0,    0,    0,    0,\n",
              "           0,    0,    0,    0,    0,    0,    0,    0,    0,    0,    0,\n",
              "           0,    0,    0,    0,    0,    0,   17,   53,  259,    9,  247],\n",
              "       [   0,    0,    0,    0,    0,    0,    0,    0,    0,    0,    0,\n",
              "           0,    0,    0,    0,    0,    0,    0,    0,    0,    0,    0,\n",
              "           0,    0,    0,    0,    0,    0,    0,    0,    5,   10,  106],\n",
              "       [   0,    0,    0,    0,    0,    0,    0,    0,    0,    0,    0,\n",
              "           0,    0,    0,    0,    0,    0,    0,    0,    0,    0,    0,\n",
              "           0,    0,    0,   12,  122,  102,  527,  196,   15,   11,  562]],\n",
              "      dtype=int32)"
            ]
          },
          "metadata": {
            "tags": []
          },
          "execution_count": 15
        }
      ]
    },
    {
      "cell_type": "markdown",
      "metadata": {
        "id": "M7yxyQJUOBWi"
      },
      "source": [
        "**Building the model**"
      ]
    },
    {
      "cell_type": "code",
      "metadata": {
        "id": "bsjDqIAXOEsG"
      },
      "source": [
        "model = Sequential()\n",
        "model.add(Embedding(5000,256,input_length=x.shape[1]))\n",
        "model.add(Dropout(0.3))\n",
        "model.add(LSTM(256, return_sequences=True, dropout=0.3, recurrent_dropout=0.2))\n",
        "model.add(LSTM(256,dropout=0.3, recurrent_dropout=0.2))\n",
        "model.add(Dense(3, activation='softmax'))\n"
      ],
      "execution_count": null,
      "outputs": []
    },
    {
      "cell_type": "code",
      "metadata": {
        "colab": {
          "base_uri": "https://localhost:8080/"
        },
        "id": "D-nrhhm5Pv4a",
        "outputId": "063b662d-6f2b-4d80-9296-506d306b8efa"
      },
      "source": [
        "model.compile(loss='categorical_crossentropy', optimizer='adam', metrics=['accuracy'])\n",
        "model.summary()"
      ],
      "execution_count": null,
      "outputs": [
        {
          "output_type": "stream",
          "text": [
            "Model: \"sequential\"\n",
            "_________________________________________________________________\n",
            "Layer (type)                 Output Shape              Param #   \n",
            "=================================================================\n",
            "embedding (Embedding)        (None, 33, 256)           1280000   \n",
            "_________________________________________________________________\n",
            "dropout (Dropout)            (None, 33, 256)           0         \n",
            "_________________________________________________________________\n",
            "lstm (LSTM)                  (None, 33, 256)           525312    \n",
            "_________________________________________________________________\n",
            "lstm_1 (LSTM)                (None, 256)               525312    \n",
            "_________________________________________________________________\n",
            "dense (Dense)                (None, 3)                 771       \n",
            "=================================================================\n",
            "Total params: 2,331,395\n",
            "Trainable params: 2,331,395\n",
            "Non-trainable params: 0\n",
            "_________________________________________________________________\n"
          ],
          "name": "stdout"
        }
      ]
    },
    {
      "cell_type": "markdown",
      "metadata": {
        "id": "_dS2YVyJRCsA"
      },
      "source": [
        "Transforming sentiment column to OneHot encoding"
      ]
    },
    {
      "cell_type": "code",
      "metadata": {
        "colab": {
          "base_uri": "https://localhost:8080/"
        },
        "id": "ywZnzU3iQAxo",
        "outputId": "5d958936-9c6f-4b02-c89c-fa7ddcdb0dd8"
      },
      "source": [
        "y = pd.get_dummies(df['airline_sentiment']).values\n",
        "[print(df['airline_sentiment'][i], y[i]) for i in range(0,5)]"
      ],
      "execution_count": null,
      "outputs": [
        {
          "output_type": "stream",
          "text": [
            "negative [1 0 0]\n",
            "negative [1 0 0]\n",
            "neutral [0 1 0]\n",
            "negative [1 0 0]\n",
            "negative [1 0 0]\n"
          ],
          "name": "stdout"
        },
        {
          "output_type": "execute_result",
          "data": {
            "text/plain": [
              "[None, None, None, None, None]"
            ]
          },
          "metadata": {
            "tags": []
          },
          "execution_count": 19
        }
      ]
    },
    {
      "cell_type": "markdown",
      "metadata": {
        "id": "10-IJ_OcRJd5"
      },
      "source": [
        "Splitting dataset into training and test set"
      ]
    },
    {
      "cell_type": "code",
      "metadata": {
        "id": "ndf4uaOAQ7-U"
      },
      "source": [
        "x_train, x_test, y_train, y_test = train_test_split(x,y, test_size=0.2, random_state=0)"
      ],
      "execution_count": null,
      "outputs": []
    },
    {
      "cell_type": "markdown",
      "metadata": {
        "id": "99PcXi7QRbQl"
      },
      "source": [
        "**Training model**"
      ]
    },
    {
      "cell_type": "code",
      "metadata": {
        "colab": {
          "base_uri": "https://localhost:8080/"
        },
        "id": "J4ocAUQOReht",
        "outputId": "34c14599-fa1f-4e8b-9e8b-4228a99a69fe"
      },
      "source": [
        "model.fit(x_train, y_train, epochs=10, batch_size=32, verbose=2)"
      ],
      "execution_count": null,
      "outputs": [
        {
          "output_type": "stream",
          "text": [
            "Epoch 1/10\n",
            "366/366 - 210s - loss: 0.4064 - accuracy: 0.8424\n",
            "Epoch 2/10\n",
            "366/366 - 211s - loss: 0.3302 - accuracy: 0.8747\n",
            "Epoch 3/10\n",
            "366/366 - 211s - loss: 0.2710 - accuracy: 0.8986\n",
            "Epoch 4/10\n",
            "366/366 - 212s - loss: 0.2263 - accuracy: 0.9178\n",
            "Epoch 5/10\n",
            "366/366 - 212s - loss: 0.1864 - accuracy: 0.9303\n",
            "Epoch 6/10\n",
            "366/366 - 211s - loss: 0.1628 - accuracy: 0.9398\n",
            "Epoch 7/10\n",
            "366/366 - 211s - loss: 0.1368 - accuracy: 0.9514\n",
            "Epoch 8/10\n",
            "366/366 - 211s - loss: 0.1191 - accuracy: 0.9571\n",
            "Epoch 9/10\n",
            "366/366 - 212s - loss: 0.1134 - accuracy: 0.9588\n",
            "Epoch 10/10\n",
            "366/366 - 212s - loss: 0.0935 - accuracy: 0.9670\n"
          ],
          "name": "stdout"
        },
        {
          "output_type": "execute_result",
          "data": {
            "text/plain": [
              "<keras.callbacks.History at 0x7f8ae1afcbd0>"
            ]
          },
          "metadata": {
            "tags": []
          },
          "execution_count": 22
        }
      ]
    },
    {
      "cell_type": "code",
      "metadata": {
        "colab": {
          "base_uri": "https://localhost:8080/"
        },
        "id": "XzT32wk0SFY-",
        "outputId": "d4d9a928-a373-4fdf-f324-fefc1c720f2e"
      },
      "source": [
        "model.save('sentiment_analysis_rnn_lstm')"
      ],
      "execution_count": null,
      "outputs": [
        {
          "output_type": "stream",
          "text": [
            "INFO:tensorflow:Assets written to: sentiment_analysis_rnn_lstm/assets\n"
          ],
          "name": "stdout"
        }
      ]
    },
    {
      "cell_type": "markdown",
      "metadata": {
        "id": "J4kl-TAnsgrX"
      },
      "source": [
        "**Training model**"
      ]
    },
    {
      "cell_type": "code",
      "metadata": {
        "colab": {
          "base_uri": "https://localhost:8080/"
        },
        "id": "W8TU2jzysjKG",
        "outputId": "5c71e222-23ef-4e87-e288-70cc65882679"
      },
      "source": [
        "y_pred = model.predict(x_test)\n",
        "[print(df['text'][i], y_pred[i], y_test[i]) for i in range(0,5)]"
      ],
      "execution_count": null,
      "outputs": [
        {
          "output_type": "stream",
          "text": [
            "united I must stop my relationship with you Youve become greedy and heartless and our long term relationship is over [0.00484226 0.97494113 0.02021661] [0 1 0]\n",
            "JetBlue no more than half an hour wait Its unreal Finally first bag coming out SJU needs to work on this [9.9992144e-01 6.8679685e-05 9.9239305e-06] [0 1 0]\n",
            " JetBlue Our fleets on fleek httptcoQavvlAXLkl [9.942245e-04 1.831369e-03 9.971744e-01] [0 0 1]\n",
            "united and waiting [6.2934594e-04 3.1162330e-03 9.9625444e-01] [0 0 1]\n",
            "USAirways NEVER AGAIN Worse experience in my life httptco3dDQq0gQni [9.99981403e-01 1.38980895e-05 4.60594083e-06] [1 0 0]\n"
          ],
          "name": "stdout"
        },
        {
          "output_type": "execute_result",
          "data": {
            "text/plain": [
              "[None, None, None, None, None]"
            ]
          },
          "metadata": {
            "tags": []
          },
          "execution_count": 24
        }
      ]
    },
    {
      "cell_type": "markdown",
      "metadata": {
        "id": "2fLdjI8f4xIN"
      },
      "source": [
        "Comparing real data and predictions"
      ]
    },
    {
      "cell_type": "code",
      "metadata": {
        "colab": {
          "base_uri": "https://localhost:8080/"
        },
        "id": "F1jTbMV_tGDF",
        "outputId": "9a7c759d-7207-4f9f-fcf0-6d16ae4dc599"
      },
      "source": [
        "pos_count, neu_count, neg_count = 0, 0, 0\n",
        "real_pos, real_neu, real_neg = 0, 0, 0\n",
        "for i, y_pred in enumerate(y_pred):\n",
        "  if np.argmax(y_pred)==2:\n",
        "    pos_count+=1\n",
        "  elif np.argmax(y_pred)==1:\n",
        "    neu_count+=1\n",
        "  else:\n",
        "    neg_count+=1\n",
        "\n",
        "  if np.argmax(y_test[i])==2:\n",
        "    real_pos+=1\n",
        "  elif np.argmax(y_test[i])==1:\n",
        "    real_neu+=1\n",
        "  else:\n",
        "    real_neg+=1\n",
        "\n",
        "print('Positive predictions: ',pos_count)\n",
        "print('Neutral predictions: ',neu_count)\n",
        "print('Negative predictions: ',neg_count)\n",
        "print('Real positive: ',real_pos)    \n",
        "print('Real neutral: ',real_neu) \n",
        "print('Real negative: ',real_neg) \n"
      ],
      "execution_count": null,
      "outputs": [
        {
          "output_type": "stream",
          "text": [
            "Positive predictions:  421\n",
            "Neutral predictions:  620\n",
            "Negative predictions:  1887\n",
            "Real positive:  491\n",
            "Real neutral:  616\n",
            "Real negative:  1821\n"
          ],
          "name": "stdout"
        }
      ]
    }
  ]
}