{
  "nbformat": 4,
  "nbformat_minor": 0,
  "metadata": {
    "colab": {
      "name": "Word2Vec Implementation",
      "provenance": [],
      "authorship_tag": "ABX9TyMeNaslZhKt19W9uSklRPKq",
      "include_colab_link": true
    },
    "kernelspec": {
      "name": "python3",
      "display_name": "Python 3"
    },
    "language_info": {
      "name": "python"
    }
  },
  "cells": [
    {
      "cell_type": "markdown",
      "metadata": {
        "id": "view-in-github",
        "colab_type": "text"
      },
      "source": [
        "<a href=\"https://colab.research.google.com/github/sau-rabh999/Deep-Learning/blob/main/Word2Vec_Implementation.ipynb\" target=\"_parent\"><img src=\"https://colab.research.google.com/assets/colab-badge.svg\" alt=\"Open In Colab\"/></a>"
      ]
    },
    {
      "cell_type": "code",
      "metadata": {
        "id": "uW2otEWN7uvk"
      },
      "source": [
        "#importing libraries\n",
        "\n",
        "import pandas as pd\n",
        "import numpy as np\n",
        "from numpy import array\n",
        "import string\n",
        "import tensorflow as tf\n",
        "from tensorflow import keras\n",
        "from keras.preprocessing.text import Tokenizer\n",
        "from tensorflow.keras.utils import to_categorical\n",
        "from keras.models import Sequential\n",
        "from keras.layers import Dense, LSTM, Embedding"
      ],
      "execution_count": 116,
      "outputs": []
    },
    {
      "cell_type": "markdown",
      "metadata": {
        "id": "n61bZaoSAnPt"
      },
      "source": [
        "Source Text"
      ]
    },
    {
      "cell_type": "code",
      "metadata": {
        "id": "IywJCEEH75Pd"
      },
      "source": [
        "para = '''\n",
        "Reed College at that time offered perhaps the best calligraphy instruction in the country. Throughout the campus every poster, every label on every drawer, was beautifully hand calligraphed. Because I had dropped out and didn’t have to take the normal classes, I decided to take a calligraphy class to learn how to do this. I learned about serif and sans serif typefaces, about varying the amount of space between different letter combinations, about what makes great typography great. It was beautiful, historical, artistically subtle in a way that science can’t capture, and I found it fascinating.\n",
        "None of this had even a hope of any practical application in my life. But 10 years later, when we were designing the first Macintosh computer, it all came back to me. And we designed it all into the Mac. It was the first computer with beautiful typography. If I had never dropped in on that single course in college, the Mac would have never had multiple typefaces or proportionally spaced fonts. And since Windows just copied the Mac, it’s likely that no personal computer would have them. If I had never dropped out, I would have never dropped in on this calligraphy class, and personal computers might not have the wonderful typography that they do. Of course it was impossible to connect the dots looking forward when I was in college. But it was very, very clear looking backward 10 years later.\n",
        "Again, you can’t connect the dots looking forward; you can only connect them looking backward. So you have to trust that the dots will somehow connect in your future. You have to trust in something — your gut, destiny, life, karma, whatever. This approach has never let me down, and it has made all the difference in my life.\n",
        "When I was 17, I read a quote that went something like: “If you live each day as if it was your last, someday you’ll most certainly be right.” It made an impression on me, and since then, for the past 33 years, I have looked in the mirror every morning and asked myself: “If today were the last day of my life, would I want to do what I am about to do today?” And whenever the answer has been “No” for too many days in a row, I know I need to change something.\n",
        "Remembering that I’ll be dead soon is the most important tool I’ve ever encountered to help me make the big choices in life. Because almost everything — all external expectations, all pride, all fear of embarrassment or failure, these things just fall away in the face of death, leaving only what is truly important. Remembering that you are going to die is the best way I know to avoid the trap of thinking you have something to lose. You are already naked. There is no reason not to follow your heart.\n",
        "\n",
        "'''"
      ],
      "execution_count": 117,
      "outputs": []
    },
    {
      "cell_type": "markdown",
      "metadata": {
        "id": "5jajhhy6P_s6"
      },
      "source": [
        "Preprocessing"
      ]
    },
    {
      "cell_type": "code",
      "metadata": {
        "id": "Lep0VDcfQDB3"
      },
      "source": [
        "import re\n",
        "text = re.sub(r'\\[[0-9]*\\]',' ',para)\n",
        "text = re.sub(r'\\s+',' ',text)\n",
        "text = text.lower()\n",
        "text = re.sub(r'\\d',' ',text)"
      ],
      "execution_count": 118,
      "outputs": []
    },
    {
      "cell_type": "code",
      "metadata": {
        "colab": {
          "base_uri": "https://localhost:8080/",
          "height": 124
        },
        "id": "j7Zo5mwtQIka",
        "outputId": "49e03523-ca7e-4932-fb77-11bcc362e412"
      },
      "source": [
        "text"
      ],
      "execution_count": 119,
      "outputs": [
        {
          "output_type": "execute_result",
          "data": {
            "application/vnd.google.colaboratory.intrinsic+json": {
              "type": "string"
            },
            "text/plain": [
              "' reed college at that time offered perhaps the best calligraphy instruction in the country. throughout the campus every poster, every label on every drawer, was beautifully hand calligraphed. because i had dropped out and didn’t have to take the normal classes, i decided to take a calligraphy class to learn how to do this. i learned about serif and sans serif typefaces, about varying the amount of space between different letter combinations, about what makes great typography great. it was beautiful, historical, artistically subtle in a way that science can’t capture, and i found it fascinating. none of this had even a hope of any practical application in my life. but    years later, when we were designing the first macintosh computer, it all came back to me. and we designed it all into the mac. it was the first computer with beautiful typography. if i had never dropped in on that single course in college, the mac would have never had multiple typefaces or proportionally spaced fonts. and since windows just copied the mac, it’s likely that no personal computer would have them. if i had never dropped out, i would have never dropped in on this calligraphy class, and personal computers might not have the wonderful typography that they do. of course it was impossible to connect the dots looking forward when i was in college. but it was very, very clear looking backward    years later. again, you can’t connect the dots looking forward; you can only connect them looking backward. so you have to trust that the dots will somehow connect in your future. you have to trust in something — your gut, destiny, life, karma, whatever. this approach has never let me down, and it has made all the difference in my life. when i was   , i read a quote that went something like: “if you live each day as if it was your last, someday you’ll most certainly be right.” it made an impression on me, and since then, for the past    years, i have looked in the mirror every morning and asked myself: “if today were the last day of my life, would i want to do what i am about to do today?” and whenever the answer has been “no” for too many days in a row, i know i need to change something. remembering that i’ll be dead soon is the most important tool i’ve ever encountered to help me make the big choices in life. because almost everything — all external expectations, all pride, all fear of embarrassment or failure, these things just fall away in the face of death, leaving only what is truly important. remembering that you are going to die is the best way i know to avoid the trap of thinking you have something to lose. you are already naked. there is no reason not to follow your heart. '"
            ]
          },
          "metadata": {
            "tags": []
          },
          "execution_count": 119
        }
      ]
    },
    {
      "cell_type": "code",
      "metadata": {
        "colab": {
          "base_uri": "https://localhost:8080/"
        },
        "id": "D_15WhCN75R-",
        "outputId": "67df6573-3dd3-4d4b-cbcf-bc225cafcfdf"
      },
      "source": [
        "len(text)"
      ],
      "execution_count": 120,
      "outputs": [
        {
          "output_type": "execute_result",
          "data": {
            "text/plain": [
              "2694"
            ]
          },
          "metadata": {
            "tags": []
          },
          "execution_count": 120
        }
      ]
    },
    {
      "cell_type": "markdown",
      "metadata": {
        "id": "YXPp2eW5EFeL"
      },
      "source": [
        "# Predicting next words"
      ]
    },
    {
      "cell_type": "markdown",
      "metadata": {
        "id": "3TDNCGeBAtfR"
      },
      "source": [
        "integer encode data"
      ]
    },
    {
      "cell_type": "code",
      "metadata": {
        "colab": {
          "base_uri": "https://localhost:8080/"
        },
        "id": "1bHbJesv75Uq",
        "outputId": "2d38bd2a-be5c-4792-d355-6992f7510e4b"
      },
      "source": [
        "tokenizer = Tokenizer()\n",
        "tokenizer.fit_on_texts([text])                            #Update internal vocabulary based on a list of text\n",
        "encoded_data = tokenizer.texts_to_sequences([text])[0]    #Transforms each word in text to a sequence of integers\n",
        "encoded_data"
      ],
      "execution_count": 121,
      "outputs": [
        {
          "output_type": "execute_result",
          "data": {
            "text/plain": [
              "[85,\n",
              " 30,\n",
              " 86,\n",
              " 7,\n",
              " 87,\n",
              " 88,\n",
              " 89,\n",
              " 1,\n",
              " 42,\n",
              " 31,\n",
              " 90,\n",
              " 4,\n",
              " 1,\n",
              " 91,\n",
              " 92,\n",
              " 1,\n",
              " 93,\n",
              " 17,\n",
              " 94,\n",
              " 17,\n",
              " 95,\n",
              " 18,\n",
              " 17,\n",
              " 96,\n",
              " 9,\n",
              " 97,\n",
              " 98,\n",
              " 99,\n",
              " 43,\n",
              " 2,\n",
              " 13,\n",
              " 19,\n",
              " 44,\n",
              " 5,\n",
              " 100,\n",
              " 8,\n",
              " 3,\n",
              " 45,\n",
              " 1,\n",
              " 101,\n",
              " 102,\n",
              " 2,\n",
              " 103,\n",
              " 3,\n",
              " 45,\n",
              " 14,\n",
              " 31,\n",
              " 46,\n",
              " 3,\n",
              " 104,\n",
              " 105,\n",
              " 3,\n",
              " 20,\n",
              " 21,\n",
              " 2,\n",
              " 106,\n",
              " 22,\n",
              " 47,\n",
              " 5,\n",
              " 107,\n",
              " 47,\n",
              " 48,\n",
              " 22,\n",
              " 108,\n",
              " 1,\n",
              " 109,\n",
              " 10,\n",
              " 110,\n",
              " 111,\n",
              " 112,\n",
              " 113,\n",
              " 114,\n",
              " 22,\n",
              " 32,\n",
              " 115,\n",
              " 49,\n",
              " 33,\n",
              " 49,\n",
              " 6,\n",
              " 9,\n",
              " 50,\n",
              " 116,\n",
              " 117,\n",
              " 118,\n",
              " 4,\n",
              " 14,\n",
              " 51,\n",
              " 7,\n",
              " 119,\n",
              " 52,\n",
              " 120,\n",
              " 5,\n",
              " 2,\n",
              " 121,\n",
              " 6,\n",
              " 122,\n",
              " 123,\n",
              " 10,\n",
              " 21,\n",
              " 13,\n",
              " 124,\n",
              " 14,\n",
              " 125,\n",
              " 10,\n",
              " 126,\n",
              " 127,\n",
              " 128,\n",
              " 4,\n",
              " 34,\n",
              " 15,\n",
              " 53,\n",
              " 35,\n",
              " 54,\n",
              " 36,\n",
              " 55,\n",
              " 56,\n",
              " 129,\n",
              " 1,\n",
              " 57,\n",
              " 130,\n",
              " 37,\n",
              " 6,\n",
              " 12,\n",
              " 131,\n",
              " 132,\n",
              " 3,\n",
              " 23,\n",
              " 5,\n",
              " 55,\n",
              " 133,\n",
              " 6,\n",
              " 12,\n",
              " 134,\n",
              " 1,\n",
              " 38,\n",
              " 6,\n",
              " 9,\n",
              " 1,\n",
              " 57,\n",
              " 37,\n",
              " 135,\n",
              " 50,\n",
              " 33,\n",
              " 39,\n",
              " 2,\n",
              " 13,\n",
              " 16,\n",
              " 19,\n",
              " 4,\n",
              " 18,\n",
              " 7,\n",
              " 136,\n",
              " 58,\n",
              " 4,\n",
              " 30,\n",
              " 1,\n",
              " 38,\n",
              " 24,\n",
              " 8,\n",
              " 16,\n",
              " 13,\n",
              " 137,\n",
              " 48,\n",
              " 59,\n",
              " 138,\n",
              " 139,\n",
              " 140,\n",
              " 5,\n",
              " 60,\n",
              " 141,\n",
              " 61,\n",
              " 142,\n",
              " 1,\n",
              " 38,\n",
              " 143,\n",
              " 144,\n",
              " 7,\n",
              " 62,\n",
              " 63,\n",
              " 37,\n",
              " 24,\n",
              " 8,\n",
              " 64,\n",
              " 39,\n",
              " 2,\n",
              " 13,\n",
              " 16,\n",
              " 19,\n",
              " 44,\n",
              " 2,\n",
              " 24,\n",
              " 8,\n",
              " 16,\n",
              " 19,\n",
              " 4,\n",
              " 18,\n",
              " 21,\n",
              " 31,\n",
              " 46,\n",
              " 5,\n",
              " 63,\n",
              " 145,\n",
              " 146,\n",
              " 65,\n",
              " 8,\n",
              " 1,\n",
              " 147,\n",
              " 33,\n",
              " 7,\n",
              " 148,\n",
              " 20,\n",
              " 10,\n",
              " 58,\n",
              " 6,\n",
              " 9,\n",
              " 149,\n",
              " 3,\n",
              " 25,\n",
              " 1,\n",
              " 40,\n",
              " 26,\n",
              " 66,\n",
              " 36,\n",
              " 2,\n",
              " 9,\n",
              " 4,\n",
              " 30,\n",
              " 53,\n",
              " 6,\n",
              " 9,\n",
              " 67,\n",
              " 67,\n",
              " 150,\n",
              " 26,\n",
              " 68,\n",
              " 35,\n",
              " 54,\n",
              " 151,\n",
              " 11,\n",
              " 52,\n",
              " 25,\n",
              " 1,\n",
              " 40,\n",
              " 26,\n",
              " 66,\n",
              " 11,\n",
              " 152,\n",
              " 69,\n",
              " 25,\n",
              " 64,\n",
              " 26,\n",
              " 68,\n",
              " 153,\n",
              " 11,\n",
              " 8,\n",
              " 3,\n",
              " 70,\n",
              " 7,\n",
              " 1,\n",
              " 40,\n",
              " 154,\n",
              " 155,\n",
              " 25,\n",
              " 4,\n",
              " 27,\n",
              " 156,\n",
              " 11,\n",
              " 8,\n",
              " 3,\n",
              " 70,\n",
              " 4,\n",
              " 28,\n",
              " 71,\n",
              " 27,\n",
              " 157,\n",
              " 158,\n",
              " 15,\n",
              " 159,\n",
              " 160,\n",
              " 21,\n",
              " 161,\n",
              " 41,\n",
              " 16,\n",
              " 162,\n",
              " 23,\n",
              " 163,\n",
              " 5,\n",
              " 6,\n",
              " 41,\n",
              " 72,\n",
              " 12,\n",
              " 1,\n",
              " 164,\n",
              " 4,\n",
              " 34,\n",
              " 15,\n",
              " 36,\n",
              " 2,\n",
              " 9,\n",
              " 2,\n",
              " 165,\n",
              " 14,\n",
              " 166,\n",
              " 7,\n",
              " 167,\n",
              " 28,\n",
              " 168,\n",
              " 73,\n",
              " 11,\n",
              " 169,\n",
              " 170,\n",
              " 74,\n",
              " 171,\n",
              " 39,\n",
              " 6,\n",
              " 9,\n",
              " 27,\n",
              " 75,\n",
              " 172,\n",
              " 173,\n",
              " 76,\n",
              " 174,\n",
              " 77,\n",
              " 175,\n",
              " 78,\n",
              " 6,\n",
              " 72,\n",
              " 176,\n",
              " 177,\n",
              " 18,\n",
              " 23,\n",
              " 5,\n",
              " 60,\n",
              " 178,\n",
              " 79,\n",
              " 1,\n",
              " 179,\n",
              " 35,\n",
              " 2,\n",
              " 8,\n",
              " 180,\n",
              " 4,\n",
              " 1,\n",
              " 181,\n",
              " 17,\n",
              " 182,\n",
              " 5,\n",
              " 183,\n",
              " 184,\n",
              " 73,\n",
              " 80,\n",
              " 56,\n",
              " 1,\n",
              " 75,\n",
              " 74,\n",
              " 10,\n",
              " 34,\n",
              " 15,\n",
              " 24,\n",
              " 2,\n",
              " 185,\n",
              " 3,\n",
              " 20,\n",
              " 32,\n",
              " 2,\n",
              " 186,\n",
              " 22,\n",
              " 3,\n",
              " 20,\n",
              " 80,\n",
              " 78,\n",
              " 5,\n",
              " 187,\n",
              " 1,\n",
              " 188,\n",
              " 41,\n",
              " 189,\n",
              " 190,\n",
              " 79,\n",
              " 191,\n",
              " 192,\n",
              " 193,\n",
              " 4,\n",
              " 14,\n",
              " 194,\n",
              " 2,\n",
              " 81,\n",
              " 2,\n",
              " 195,\n",
              " 3,\n",
              " 196,\n",
              " 28,\n",
              " 82,\n",
              " 7,\n",
              " 197,\n",
              " 77,\n",
              " 198,\n",
              " 199,\n",
              " 29,\n",
              " 1,\n",
              " 76,\n",
              " 83,\n",
              " 200,\n",
              " 201,\n",
              " 202,\n",
              " 203,\n",
              " 3,\n",
              " 204,\n",
              " 23,\n",
              " 205,\n",
              " 1,\n",
              " 206,\n",
              " 207,\n",
              " 4,\n",
              " 15,\n",
              " 43,\n",
              " 208,\n",
              " 209,\n",
              " 71,\n",
              " 12,\n",
              " 210,\n",
              " 211,\n",
              " 12,\n",
              " 212,\n",
              " 12,\n",
              " 213,\n",
              " 10,\n",
              " 214,\n",
              " 59,\n",
              " 215,\n",
              " 216,\n",
              " 217,\n",
              " 61,\n",
              " 218,\n",
              " 219,\n",
              " 4,\n",
              " 1,\n",
              " 220,\n",
              " 10,\n",
              " 221,\n",
              " 222,\n",
              " 69,\n",
              " 32,\n",
              " 29,\n",
              " 223,\n",
              " 83,\n",
              " 82,\n",
              " 7,\n",
              " 11,\n",
              " 84,\n",
              " 224,\n",
              " 3,\n",
              " 225,\n",
              " 29,\n",
              " 1,\n",
              " 42,\n",
              " 51,\n",
              " 2,\n",
              " 81,\n",
              " 3,\n",
              " 226,\n",
              " 1,\n",
              " 227,\n",
              " 10,\n",
              " 228,\n",
              " 11,\n",
              " 8,\n",
              " 28,\n",
              " 3,\n",
              " 229,\n",
              " 11,\n",
              " 84,\n",
              " 230,\n",
              " 231,\n",
              " 232,\n",
              " 29,\n",
              " 62,\n",
              " 233,\n",
              " 65,\n",
              " 3,\n",
              " 234,\n",
              " 27,\n",
              " 235]"
            ]
          },
          "metadata": {
            "tags": []
          },
          "execution_count": 121
        }
      ]
    },
    {
      "cell_type": "markdown",
      "metadata": {
        "id": "XVA6tFosBoSq"
      },
      "source": [
        "Determine the vocab size"
      ]
    },
    {
      "cell_type": "code",
      "metadata": {
        "colab": {
          "base_uri": "https://localhost:8080/"
        },
        "id": "GA0env8A75W9",
        "outputId": "15406dc4-bdb1-4719-8615-9adf7cee6d70"
      },
      "source": [
        "vocab_size = len(tokenizer.word_index)+1    #0 reserved for padding\n",
        "print('Vocabulary size is: ',vocab_size)"
      ],
      "execution_count": 122,
      "outputs": [
        {
          "output_type": "stream",
          "text": [
            "Vocabulary size is:  236\n"
          ],
          "name": "stdout"
        }
      ]
    },
    {
      "cell_type": "markdown",
      "metadata": {
        "id": "ntP72FV6ECP9"
      },
      "source": [
        "**Creation of sequences of words to fit the model with 1 word as input and 1 word as output (input --> output)**"
      ]
    },
    {
      "cell_type": "code",
      "metadata": {
        "colab": {
          "base_uri": "https://localhost:8080/"
        },
        "id": "5BF76Ma8Ddsj",
        "outputId": "5cf89bff-a259-4d82-e276-3904cf41fb74"
      },
      "source": [
        "sequences = list()\n",
        "for i in range(1,len(encoded_data)):\n",
        "  sequence = encoded_data[i-1:i+1]\n",
        "  sequences.append(sequence)\n",
        "print('Total sequences: ',len(sequences))  \n"
      ],
      "execution_count": 123,
      "outputs": [
        {
          "output_type": "stream",
          "text": [
            "Total sequences:  482\n"
          ],
          "name": "stdout"
        }
      ]
    },
    {
      "cell_type": "code",
      "metadata": {
        "colab": {
          "base_uri": "https://localhost:8080/"
        },
        "id": "xn6cu0dlDdvF",
        "outputId": "86732570-a12b-424b-cd28-8ec19b572077"
      },
      "source": [
        "sequences[:20]"
      ],
      "execution_count": 124,
      "outputs": [
        {
          "output_type": "execute_result",
          "data": {
            "text/plain": [
              "[[85, 30],\n",
              " [30, 86],\n",
              " [86, 7],\n",
              " [7, 87],\n",
              " [87, 88],\n",
              " [88, 89],\n",
              " [89, 1],\n",
              " [1, 42],\n",
              " [42, 31],\n",
              " [31, 90],\n",
              " [90, 4],\n",
              " [4, 1],\n",
              " [1, 91],\n",
              " [91, 92],\n",
              " [92, 1],\n",
              " [1, 93],\n",
              " [93, 17],\n",
              " [17, 94],\n",
              " [94, 17],\n",
              " [17, 95]]"
            ]
          },
          "metadata": {
            "tags": []
          },
          "execution_count": 124
        }
      ]
    },
    {
      "cell_type": "markdown",
      "metadata": {
        "id": "JHLp3OgmGxjn"
      },
      "source": [
        "Splitting the sequences into input elements(x) and output elements(y)"
      ]
    },
    {
      "cell_type": "code",
      "metadata": {
        "id": "cavDYxcCDdyi"
      },
      "source": [
        "sequences = array(sequences)\n",
        "x,y = sequences[:,0],sequences[:,1]"
      ],
      "execution_count": 125,
      "outputs": []
    },
    {
      "cell_type": "code",
      "metadata": {
        "colab": {
          "base_uri": "https://localhost:8080/"
        },
        "id": "asQgQFvEDd1P",
        "outputId": "9ccb696a-d540-4471-9245-81a009a2a215"
      },
      "source": [
        "x[:10]"
      ],
      "execution_count": 126,
      "outputs": [
        {
          "output_type": "execute_result",
          "data": {
            "text/plain": [
              "array([85, 30, 86,  7, 87, 88, 89,  1, 42, 31])"
            ]
          },
          "metadata": {
            "tags": []
          },
          "execution_count": 126
        }
      ]
    },
    {
      "cell_type": "code",
      "metadata": {
        "colab": {
          "base_uri": "https://localhost:8080/"
        },
        "id": "KX5ZPl8HDd3_",
        "outputId": "0117480c-ac30-4e7f-c9e2-775443b817bf"
      },
      "source": [
        "y[:10]"
      ],
      "execution_count": 127,
      "outputs": [
        {
          "output_type": "execute_result",
          "data": {
            "text/plain": [
              "array([30, 86,  7, 87, 88, 89,  1, 42, 31, 90])"
            ]
          },
          "metadata": {
            "tags": []
          },
          "execution_count": 127
        }
      ]
    },
    {
      "cell_type": "markdown",
      "metadata": {
        "id": "wF8eQjB0HqsR"
      },
      "source": [
        "One hot encode outputs"
      ]
    },
    {
      "cell_type": "code",
      "metadata": {
        "colab": {
          "base_uri": "https://localhost:8080/"
        },
        "id": "rbjt4rCBHtV0",
        "outputId": "da89da02-7f70-4847-e6bf-79946c8f9df6"
      },
      "source": [
        "y = to_categorical(y , num_classes=vocab_size)\n",
        "y[:10]"
      ],
      "execution_count": 128,
      "outputs": [
        {
          "output_type": "execute_result",
          "data": {
            "text/plain": [
              "array([[0., 0., 0., ..., 0., 0., 0.],\n",
              "       [0., 0., 0., ..., 0., 0., 0.],\n",
              "       [0., 0., 0., ..., 0., 0., 0.],\n",
              "       ...,\n",
              "       [0., 0., 0., ..., 0., 0., 0.],\n",
              "       [0., 0., 0., ..., 0., 0., 0.],\n",
              "       [0., 0., 0., ..., 0., 0., 0.]], dtype=float32)"
            ]
          },
          "metadata": {
            "tags": []
          },
          "execution_count": 128
        }
      ]
    },
    {
      "cell_type": "markdown",
      "metadata": {
        "id": "9tlwXT6SInwx"
      },
      "source": [
        "Building the model"
      ]
    },
    {
      "cell_type": "code",
      "metadata": {
        "colab": {
          "base_uri": "https://localhost:8080/"
        },
        "id": "y-iFFjpoHtl1",
        "outputId": "0fd27260-f5e6-49b4-dddb-6278c8ce3117"
      },
      "source": [
        "model = Sequential()\n",
        "model.add(Embedding(vocab_size , 20 , input_length=1)) #(max_features, embedding_size, input_length)\n",
        "model.add(LSTM(50))\n",
        "model.add(Dense(vocab_size , activation='softmax'))\n",
        "print(model.summary())"
      ],
      "execution_count": 129,
      "outputs": [
        {
          "output_type": "stream",
          "text": [
            "Model: \"sequential_2\"\n",
            "_________________________________________________________________\n",
            "Layer (type)                 Output Shape              Param #   \n",
            "=================================================================\n",
            "embedding_2 (Embedding)      (None, 1, 20)             4720      \n",
            "_________________________________________________________________\n",
            "lstm_2 (LSTM)                (None, 50)                14200     \n",
            "_________________________________________________________________\n",
            "dense_2 (Dense)              (None, 236)               12036     \n",
            "=================================================================\n",
            "Total params: 30,956\n",
            "Trainable params: 30,956\n",
            "Non-trainable params: 0\n",
            "_________________________________________________________________\n",
            "None\n"
          ],
          "name": "stdout"
        }
      ]
    },
    {
      "cell_type": "markdown",
      "metadata": {
        "id": "gQ6BHO0MJWZh"
      },
      "source": [
        "Compile the network"
      ]
    },
    {
      "cell_type": "code",
      "metadata": {
        "id": "Ke3I0CvIHtoh"
      },
      "source": [
        "model.compile(loss='categorical_crossentropy' , optimizer = 'adam' , metrics = ['accuracy'])\n"
      ],
      "execution_count": 130,
      "outputs": []
    },
    {
      "cell_type": "markdown",
      "metadata": {
        "id": "P0zvwxAqJvft"
      },
      "source": [
        "Fit network"
      ]
    },
    {
      "cell_type": "code",
      "metadata": {
        "colab": {
          "base_uri": "https://localhost:8080/"
        },
        "id": "6npiZYz_HtrI",
        "outputId": "f2a60110-d7c2-4cd6-81e2-1b3d80598a7b"
      },
      "source": [
        "model.fit(x,y, epochs=100)"
      ],
      "execution_count": 131,
      "outputs": [
        {
          "output_type": "stream",
          "text": [
            "Epoch 1/100\n",
            "16/16 [==============================] - 2s 3ms/step - loss: 5.4632 - accuracy: 0.0062 \n",
            "Epoch 2/100\n",
            "16/16 [==============================] - 0s 3ms/step - loss: 5.4562 - accuracy: 0.0471\n",
            "Epoch 3/100\n",
            "16/16 [==============================] - 0s 3ms/step - loss: 5.4497 - accuracy: 0.0618\n",
            "Epoch 4/100\n",
            "16/16 [==============================] - 0s 3ms/step - loss: 5.4420 - accuracy: 0.0682\n",
            "Epoch 5/100\n",
            "16/16 [==============================] - 0s 3ms/step - loss: 5.4335 - accuracy: 0.0625\n",
            "Epoch 6/100\n",
            "16/16 [==============================] - 0s 3ms/step - loss: 5.4197 - accuracy: 0.0749\n",
            "Epoch 7/100\n",
            "16/16 [==============================] - 0s 3ms/step - loss: 5.4020 - accuracy: 0.0881\n",
            "Epoch 8/100\n",
            "16/16 [==============================] - 0s 3ms/step - loss: 5.3738 - accuracy: 0.0721\n",
            "Epoch 9/100\n",
            "16/16 [==============================] - 0s 3ms/step - loss: 5.3233 - accuracy: 0.1031\n",
            "Epoch 10/100\n",
            "16/16 [==============================] - 0s 3ms/step - loss: 5.2844 - accuracy: 0.0766\n",
            "Epoch 11/100\n",
            "16/16 [==============================] - 0s 3ms/step - loss: 5.1957 - accuracy: 0.0557\n",
            "Epoch 12/100\n",
            "16/16 [==============================] - 0s 3ms/step - loss: 5.1005 - accuracy: 0.0673\n",
            "Epoch 13/100\n",
            "16/16 [==============================] - 0s 3ms/step - loss: 4.9580 - accuracy: 0.0653\n",
            "Epoch 14/100\n",
            "16/16 [==============================] - 0s 3ms/step - loss: 4.8528 - accuracy: 0.0425\n",
            "Epoch 15/100\n",
            "16/16 [==============================] - 0s 3ms/step - loss: 4.7266 - accuracy: 0.0559\n",
            "Epoch 16/100\n",
            "16/16 [==============================] - 0s 3ms/step - loss: 4.6825 - accuracy: 0.0564\n",
            "Epoch 17/100\n",
            "16/16 [==============================] - 0s 3ms/step - loss: 4.5650 - accuracy: 0.0663\n",
            "Epoch 18/100\n",
            "16/16 [==============================] - 0s 3ms/step - loss: 4.5092 - accuracy: 0.0723\n",
            "Epoch 19/100\n",
            "16/16 [==============================] - 0s 3ms/step - loss: 4.4543 - accuracy: 0.0706\n",
            "Epoch 20/100\n",
            "16/16 [==============================] - 0s 3ms/step - loss: 4.4221 - accuracy: 0.0782\n",
            "Epoch 21/100\n",
            "16/16 [==============================] - 0s 3ms/step - loss: 4.2622 - accuracy: 0.0763\n",
            "Epoch 22/100\n",
            "16/16 [==============================] - 0s 3ms/step - loss: 4.2588 - accuracy: 0.0686\n",
            "Epoch 23/100\n",
            "16/16 [==============================] - 0s 3ms/step - loss: 4.2359 - accuracy: 0.0738\n",
            "Epoch 24/100\n",
            "16/16 [==============================] - 0s 3ms/step - loss: 4.1505 - accuracy: 0.0886\n",
            "Epoch 25/100\n",
            "16/16 [==============================] - 0s 3ms/step - loss: 4.1039 - accuracy: 0.1123\n",
            "Epoch 26/100\n",
            "16/16 [==============================] - 0s 3ms/step - loss: 4.0495 - accuracy: 0.0973\n",
            "Epoch 27/100\n",
            "16/16 [==============================] - 0s 3ms/step - loss: 4.0142 - accuracy: 0.1436\n",
            "Epoch 28/100\n",
            "16/16 [==============================] - 0s 3ms/step - loss: 3.9054 - accuracy: 0.1331\n",
            "Epoch 29/100\n",
            "16/16 [==============================] - 0s 3ms/step - loss: 3.8985 - accuracy: 0.1445\n",
            "Epoch 30/100\n",
            "16/16 [==============================] - 0s 3ms/step - loss: 3.8256 - accuracy: 0.1673\n",
            "Epoch 31/100\n",
            "16/16 [==============================] - 0s 3ms/step - loss: 3.7715 - accuracy: 0.1677\n",
            "Epoch 32/100\n",
            "16/16 [==============================] - 0s 3ms/step - loss: 3.7373 - accuracy: 0.1835\n",
            "Epoch 33/100\n",
            "16/16 [==============================] - 0s 3ms/step - loss: 3.5218 - accuracy: 0.2074\n",
            "Epoch 34/100\n",
            "16/16 [==============================] - 0s 3ms/step - loss: 3.4977 - accuracy: 0.2225\n",
            "Epoch 35/100\n",
            "16/16 [==============================] - 0s 3ms/step - loss: 3.4682 - accuracy: 0.2200\n",
            "Epoch 36/100\n",
            "16/16 [==============================] - 0s 3ms/step - loss: 3.3237 - accuracy: 0.2400\n",
            "Epoch 37/100\n",
            "16/16 [==============================] - 0s 4ms/step - loss: 3.3219 - accuracy: 0.2587\n",
            "Epoch 38/100\n",
            "16/16 [==============================] - 0s 3ms/step - loss: 3.2545 - accuracy: 0.2620\n",
            "Epoch 39/100\n",
            "16/16 [==============================] - 0s 3ms/step - loss: 3.2130 - accuracy: 0.2660\n",
            "Epoch 40/100\n",
            "16/16 [==============================] - 0s 3ms/step - loss: 3.1833 - accuracy: 0.2513\n",
            "Epoch 41/100\n",
            "16/16 [==============================] - 0s 3ms/step - loss: 3.0559 - accuracy: 0.2782\n",
            "Epoch 42/100\n",
            "16/16 [==============================] - 0s 3ms/step - loss: 3.0065 - accuracy: 0.2845\n",
            "Epoch 43/100\n",
            "16/16 [==============================] - 0s 3ms/step - loss: 2.9726 - accuracy: 0.3125\n",
            "Epoch 44/100\n",
            "16/16 [==============================] - 0s 3ms/step - loss: 2.9116 - accuracy: 0.3089\n",
            "Epoch 45/100\n",
            "16/16 [==============================] - 0s 3ms/step - loss: 2.9023 - accuracy: 0.3327\n",
            "Epoch 46/100\n",
            "16/16 [==============================] - 0s 3ms/step - loss: 2.8228 - accuracy: 0.3512\n",
            "Epoch 47/100\n",
            "16/16 [==============================] - 0s 3ms/step - loss: 2.7581 - accuracy: 0.3836\n",
            "Epoch 48/100\n",
            "16/16 [==============================] - 0s 3ms/step - loss: 2.7109 - accuracy: 0.3810\n",
            "Epoch 49/100\n",
            "16/16 [==============================] - 0s 3ms/step - loss: 2.6694 - accuracy: 0.4001\n",
            "Epoch 50/100\n",
            "16/16 [==============================] - 0s 3ms/step - loss: 2.6161 - accuracy: 0.4140\n",
            "Epoch 51/100\n",
            "16/16 [==============================] - 0s 3ms/step - loss: 2.5232 - accuracy: 0.4179\n",
            "Epoch 52/100\n",
            "16/16 [==============================] - 0s 3ms/step - loss: 2.4869 - accuracy: 0.4165\n",
            "Epoch 53/100\n",
            "16/16 [==============================] - 0s 3ms/step - loss: 2.4555 - accuracy: 0.4175\n",
            "Epoch 54/100\n",
            "16/16 [==============================] - 0s 3ms/step - loss: 2.4275 - accuracy: 0.4341\n",
            "Epoch 55/100\n",
            "16/16 [==============================] - 0s 4ms/step - loss: 2.3714 - accuracy: 0.4596\n",
            "Epoch 56/100\n",
            "16/16 [==============================] - 0s 3ms/step - loss: 2.3841 - accuracy: 0.4432\n",
            "Epoch 57/100\n",
            "16/16 [==============================] - 0s 3ms/step - loss: 2.3023 - accuracy: 0.4668\n",
            "Epoch 58/100\n",
            "16/16 [==============================] - 0s 3ms/step - loss: 2.2727 - accuracy: 0.5098\n",
            "Epoch 59/100\n",
            "16/16 [==============================] - 0s 3ms/step - loss: 2.2503 - accuracy: 0.4813\n",
            "Epoch 60/100\n",
            "16/16 [==============================] - 0s 3ms/step - loss: 2.2550 - accuracy: 0.4499\n",
            "Epoch 61/100\n",
            "16/16 [==============================] - 0s 3ms/step - loss: 2.2215 - accuracy: 0.4612\n",
            "Epoch 62/100\n",
            "16/16 [==============================] - 0s 3ms/step - loss: 2.1532 - accuracy: 0.4619\n",
            "Epoch 63/100\n",
            "16/16 [==============================] - 0s 3ms/step - loss: 2.0437 - accuracy: 0.5108\n",
            "Epoch 64/100\n",
            "16/16 [==============================] - 0s 5ms/step - loss: 2.0796 - accuracy: 0.4976\n",
            "Epoch 65/100\n",
            "16/16 [==============================] - 0s 3ms/step - loss: 2.0612 - accuracy: 0.4666\n",
            "Epoch 66/100\n",
            "16/16 [==============================] - 0s 3ms/step - loss: 1.9821 - accuracy: 0.4708\n",
            "Epoch 67/100\n",
            "16/16 [==============================] - 0s 4ms/step - loss: 1.9607 - accuracy: 0.4898\n",
            "Epoch 68/100\n",
            "16/16 [==============================] - 0s 3ms/step - loss: 1.9574 - accuracy: 0.4993\n",
            "Epoch 69/100\n",
            "16/16 [==============================] - 0s 4ms/step - loss: 1.8703 - accuracy: 0.5126\n",
            "Epoch 70/100\n",
            "16/16 [==============================] - 0s 4ms/step - loss: 1.9343 - accuracy: 0.4837\n",
            "Epoch 71/100\n",
            "16/16 [==============================] - 0s 3ms/step - loss: 1.8715 - accuracy: 0.4882\n",
            "Epoch 72/100\n",
            "16/16 [==============================] - 0s 3ms/step - loss: 1.7914 - accuracy: 0.5089\n",
            "Epoch 73/100\n",
            "16/16 [==============================] - 0s 3ms/step - loss: 1.7910 - accuracy: 0.5089\n",
            "Epoch 74/100\n",
            "16/16 [==============================] - 0s 3ms/step - loss: 1.7728 - accuracy: 0.5139\n",
            "Epoch 75/100\n",
            "16/16 [==============================] - 0s 3ms/step - loss: 1.7680 - accuracy: 0.5172\n",
            "Epoch 76/100\n",
            "16/16 [==============================] - 0s 3ms/step - loss: 1.7161 - accuracy: 0.5208\n",
            "Epoch 77/100\n",
            "16/16 [==============================] - 0s 3ms/step - loss: 1.7498 - accuracy: 0.5135\n",
            "Epoch 78/100\n",
            "16/16 [==============================] - 0s 3ms/step - loss: 1.7028 - accuracy: 0.5111\n",
            "Epoch 79/100\n",
            "16/16 [==============================] - 0s 3ms/step - loss: 1.6842 - accuracy: 0.5479\n",
            "Epoch 80/100\n",
            "16/16 [==============================] - 0s 3ms/step - loss: 1.7136 - accuracy: 0.5103\n",
            "Epoch 81/100\n",
            "16/16 [==============================] - 0s 3ms/step - loss: 1.6015 - accuracy: 0.5589\n",
            "Epoch 82/100\n",
            "16/16 [==============================] - 0s 3ms/step - loss: 1.6592 - accuracy: 0.5464\n",
            "Epoch 83/100\n",
            "16/16 [==============================] - 0s 3ms/step - loss: 1.6100 - accuracy: 0.5226\n",
            "Epoch 84/100\n",
            "16/16 [==============================] - 0s 3ms/step - loss: 1.6392 - accuracy: 0.5204\n",
            "Epoch 85/100\n",
            "16/16 [==============================] - 0s 3ms/step - loss: 1.5833 - accuracy: 0.5333\n",
            "Epoch 86/100\n",
            "16/16 [==============================] - 0s 3ms/step - loss: 1.5402 - accuracy: 0.5357\n",
            "Epoch 87/100\n",
            "16/16 [==============================] - 0s 3ms/step - loss: 1.5545 - accuracy: 0.5504\n",
            "Epoch 88/100\n",
            "16/16 [==============================] - 0s 3ms/step - loss: 1.4955 - accuracy: 0.5482\n",
            "Epoch 89/100\n",
            "16/16 [==============================] - 0s 3ms/step - loss: 1.5524 - accuracy: 0.4959\n",
            "Epoch 90/100\n",
            "16/16 [==============================] - 0s 3ms/step - loss: 1.5423 - accuracy: 0.5335\n",
            "Epoch 91/100\n",
            "16/16 [==============================] - 0s 3ms/step - loss: 1.4557 - accuracy: 0.5472\n",
            "Epoch 92/100\n",
            "16/16 [==============================] - 0s 3ms/step - loss: 1.4554 - accuracy: 0.5430\n",
            "Epoch 93/100\n",
            "16/16 [==============================] - 0s 3ms/step - loss: 1.4711 - accuracy: 0.5337\n",
            "Epoch 94/100\n",
            "16/16 [==============================] - 0s 3ms/step - loss: 1.4391 - accuracy: 0.5578\n",
            "Epoch 95/100\n",
            "16/16 [==============================] - 0s 3ms/step - loss: 1.4842 - accuracy: 0.5286\n",
            "Epoch 96/100\n",
            "16/16 [==============================] - 0s 3ms/step - loss: 1.4638 - accuracy: 0.5446\n",
            "Epoch 97/100\n",
            "16/16 [==============================] - 0s 3ms/step - loss: 1.4323 - accuracy: 0.5636\n",
            "Epoch 98/100\n",
            "16/16 [==============================] - 0s 3ms/step - loss: 1.4004 - accuracy: 0.5552\n",
            "Epoch 99/100\n",
            "16/16 [==============================] - 0s 3ms/step - loss: 1.4085 - accuracy: 0.5533\n",
            "Epoch 100/100\n",
            "16/16 [==============================] - 0s 3ms/step - loss: 1.3625 - accuracy: 0.5588\n"
          ],
          "name": "stdout"
        },
        {
          "output_type": "execute_result",
          "data": {
            "text/plain": [
              "<keras.callbacks.History at 0x7fada76a2190>"
            ]
          },
          "metadata": {
            "tags": []
          },
          "execution_count": 131
        }
      ]
    },
    {
      "cell_type": "markdown",
      "metadata": {
        "id": "_L7lCpEvMYQ_"
      },
      "source": [
        "Generate a sequence from the model"
      ]
    },
    {
      "cell_type": "code",
      "metadata": {
        "id": "nZoB9z985qp0"
      },
      "source": [
        "def generate_seq(model, tokenizer, in_text, n_pred):\n",
        "  result = in_text\n",
        "\n",
        "  #generate a fixed no of words\n",
        "  for _ in range(n_pred):\n",
        "\n",
        "    #encode the text as integer\n",
        "    encoded = tokenizer.texts_to_sequences([in_text])[0]\n",
        "    encoded = array(encoded)\n",
        "\n",
        "    #predict a word in the vocabulary\n",
        "    y_pred = model.predict_classes(encoded)\n",
        "\n",
        "    #map the predicted word index to the word\n",
        "    out_word = ''\n",
        "    for word,index in tokenizer.word_index.items():  #for each of the item/word, we will check if it matches with the predicted word y_pred\n",
        "      if index==y_pred:\n",
        "        out_word = word\n",
        "        break\n",
        "\n",
        "    #append to input\n",
        "    in_text,result = out_word, result+' '+out_word\n",
        "  return result"
      ],
      "execution_count": 132,
      "outputs": []
    },
    {
      "cell_type": "markdown",
      "metadata": {
        "id": "O6KxjMDhOI9M"
      },
      "source": [
        "Evaluate next n words"
      ]
    },
    {
      "cell_type": "code",
      "metadata": {
        "colab": {
          "base_uri": "https://localhost:8080/"
        },
        "id": "BIobk2eeMbJc",
        "outputId": "6c74fe1a-e8c5-4e11-819d-43a7ad218a9a"
      },
      "source": [
        "print(generate_seq(model,tokenizer,'offered',2))"
      ],
      "execution_count": 133,
      "outputs": [
        {
          "output_type": "stream",
          "text": [
            "/usr/local/lib/python3.7/dist-packages/keras/engine/sequential.py:450: UserWarning: `model.predict_classes()` is deprecated and will be removed after 2021-01-01. Please use instead:* `np.argmax(model.predict(x), axis=-1)`,   if your model does multi-class classification   (e.g. if it uses a `softmax` last-layer activation).* `(model.predict(x) > 0.5).astype(\"int32\")`,   if your model does binary classification   (e.g. if it uses a `sigmoid` last-layer activation).\n",
            "  warnings.warn('`model.predict_classes()` is deprecated and '\n"
          ],
          "name": "stderr"
        },
        {
          "output_type": "stream",
          "text": [
            "offered perhaps the\n"
          ],
          "name": "stdout"
        }
      ]
    },
    {
      "cell_type": "code",
      "metadata": {
        "colab": {
          "base_uri": "https://localhost:8080/"
        },
        "id": "6L8iV08EOb6s",
        "outputId": "0c7e677d-0302-4d6f-b755-4aed78e5393a"
      },
      "source": [
        "print(generate_seq(model,tokenizer,'death',5))"
      ],
      "execution_count": 134,
      "outputs": [
        {
          "output_type": "stream",
          "text": [
            "/usr/local/lib/python3.7/dist-packages/keras/engine/sequential.py:450: UserWarning: `model.predict_classes()` is deprecated and will be removed after 2021-01-01. Please use instead:* `np.argmax(model.predict(x), axis=-1)`,   if your model does multi-class classification   (e.g. if it uses a `softmax` last-layer activation).* `(model.predict(x) > 0.5).astype(\"int32\")`,   if your model does binary classification   (e.g. if it uses a `sigmoid` last-layer activation).\n",
            "  warnings.warn('`model.predict_classes()` is deprecated and '\n"
          ],
          "name": "stderr"
        },
        {
          "output_type": "stream",
          "text": [
            "death leaving only connect the last\n"
          ],
          "name": "stdout"
        }
      ]
    },
    {
      "cell_type": "code",
      "metadata": {
        "colab": {
          "base_uri": "https://localhost:8080/"
        },
        "id": "uatUyAIcO05N",
        "outputId": "70b72d72-9e1c-49b1-f5fc-51628d055afc"
      },
      "source": [
        "print(generate_seq(model,tokenizer,'failure',5))"
      ],
      "execution_count": 135,
      "outputs": [
        {
          "output_type": "stream",
          "text": [
            "/usr/local/lib/python3.7/dist-packages/keras/engine/sequential.py:450: UserWarning: `model.predict_classes()` is deprecated and will be removed after 2021-01-01. Please use instead:* `np.argmax(model.predict(x), axis=-1)`,   if your model does multi-class classification   (e.g. if it uses a `softmax` last-layer activation).* `(model.predict(x) > 0.5).astype(\"int32\")`,   if your model does binary classification   (e.g. if it uses a `sigmoid` last-layer activation).\n",
            "  warnings.warn('`model.predict_classes()` is deprecated and '\n"
          ],
          "name": "stderr"
        },
        {
          "output_type": "stream",
          "text": [
            "failure these things just copied the\n"
          ],
          "name": "stdout"
        }
      ]
    },
    {
      "cell_type": "markdown",
      "metadata": {
        "id": "4y15R6YRDF3k"
      },
      "source": [
        "# find similar words (using gensim)"
      ]
    },
    {
      "cell_type": "code",
      "metadata": {
        "colab": {
          "base_uri": "https://localhost:8080/"
        },
        "id": "rfliHkwv7CTh",
        "outputId": "d08da767-fe00-40c1-9dd0-30cfba610c90"
      },
      "source": [
        "import nltk\n",
        "import numpy\n",
        "nltk.download('punkt')\n",
        "from nltk.tokenize import word_tokenize\n",
        "from gensim.models import Word2Vec"
      ],
      "execution_count": 136,
      "outputs": [
        {
          "output_type": "stream",
          "text": [
            "[nltk_data] Downloading package punkt to /root/nltk_data...\n",
            "[nltk_data]   Package punkt is already up-to-date!\n"
          ],
          "name": "stdout"
        }
      ]
    },
    {
      "cell_type": "code",
      "metadata": {
        "id": "R683KzpP-RL1"
      },
      "source": [
        "tokens = word_tokenize(text)"
      ],
      "execution_count": 137,
      "outputs": []
    },
    {
      "cell_type": "code",
      "metadata": {
        "id": "1cDiJD__AZH5"
      },
      "source": [
        "model2= Word2Vec([tokens],min_count=1)"
      ],
      "execution_count": 138,
      "outputs": []
    },
    {
      "cell_type": "code",
      "metadata": {
        "id": "SpIsTMdfAZUZ"
      },
      "source": [
        "vocabulary = model2.wv.vocab"
      ],
      "execution_count": 139,
      "outputs": []
    },
    {
      "cell_type": "markdown",
      "metadata": {
        "id": "CRW1NiNWQmIQ"
      },
      "source": [
        "Checking most similar words\n"
      ]
    },
    {
      "cell_type": "code",
      "metadata": {
        "id": "S7Gj-WP-AZXs"
      },
      "source": [
        "sim_words = model2.wv.most_similar('failure')"
      ],
      "execution_count": 140,
      "outputs": []
    },
    {
      "cell_type": "code",
      "metadata": {
        "colab": {
          "base_uri": "https://localhost:8080/"
        },
        "id": "QEvJEFIfD4jq",
        "outputId": "4d7ec6c5-bd6f-49b2-a4a7-e9a094dcf1a7"
      },
      "source": [
        "sim_words "
      ],
      "execution_count": 141,
      "outputs": [
        {
          "output_type": "execute_result",
          "data": {
            "text/plain": [
              "[('this', 0.29643937945365906),\n",
              " ('between', 0.21947115659713745),\n",
              " ('encountered', 0.2030329406261444),\n",
              " ('how', 0.19071707129478455),\n",
              " ('“', 0.18395422399044037),\n",
              " ('that', 0.18068420886993408),\n",
              " ('everything', 0.1719420701265335),\n",
              " ('wonderful', 0.16356709599494934),\n",
              " ('trust', 0.1625773012638092),\n",
              " ('or', 0.150347501039505)]"
            ]
          },
          "metadata": {
            "tags": []
          },
          "execution_count": 141
        }
      ]
    },
    {
      "cell_type": "code",
      "metadata": {
        "id": "ZFE5IxUbDPmG"
      },
      "source": [
        "sim_words = model2.wv.most_similar('great')"
      ],
      "execution_count": 142,
      "outputs": []
    },
    {
      "cell_type": "code",
      "metadata": {
        "id": "Z5l3DHt7FJKb",
        "colab": {
          "base_uri": "https://localhost:8080/"
        },
        "outputId": "94e6b95f-da54-4f42-d4a5-e0914ac49c17"
      },
      "source": [
        "sim_words"
      ],
      "execution_count": 143,
      "outputs": [
        {
          "output_type": "execute_result",
          "data": {
            "text/plain": [
              "[('looking', 0.4612054228782654),\n",
              " ('most', 0.24055829644203186),\n",
              " ('live', 0.23015420138835907),\n",
              " ('encountered', 0.2161312699317932),\n",
              " ('fall', 0.2070375233888626),\n",
              " ('follow', 0.19644944369792938),\n",
              " ('make', 0.19485414028167725),\n",
              " ('hand', 0.19178980588912964),\n",
              " ('has', 0.18897981941699982),\n",
              " ('quote', 0.18821923434734344)]"
            ]
          },
          "metadata": {
            "tags": []
          },
          "execution_count": 143
        }
      ]
    },
    {
      "cell_type": "markdown",
      "metadata": {
        "id": "1HLt0LrzQqXL"
      },
      "source": [
        "Checking similarity between 2 words"
      ]
    },
    {
      "cell_type": "code",
      "metadata": {
        "colab": {
          "base_uri": "https://localhost:8080/"
        },
        "id": "k0mOFbUtQjCd",
        "outputId": "c0958f74-5d8b-4199-dd14-df2f2f5bd97a"
      },
      "source": [
        "score = model2.wv.similarity('fonts', 'typography')\n",
        "score"
      ],
      "execution_count": 144,
      "outputs": [
        {
          "output_type": "execute_result",
          "data": {
            "text/plain": [
              "0.08615618"
            ]
          },
          "metadata": {
            "tags": []
          },
          "execution_count": 144
        }
      ]
    },
    {
      "cell_type": "code",
      "metadata": {
        "colab": {
          "base_uri": "https://localhost:8080/"
        },
        "id": "ggU4ke1qSZfE",
        "outputId": "30122338-f981-44fc-8bc1-27a3ae6a1a3e"
      },
      "source": [
        "score = model2.wv.similarity('reed', 'college')\n",
        "score"
      ],
      "execution_count": 145,
      "outputs": [
        {
          "output_type": "execute_result",
          "data": {
            "text/plain": [
              "-0.17955215"
            ]
          },
          "metadata": {
            "tags": []
          },
          "execution_count": 145
        }
      ]
    },
    {
      "cell_type": "code",
      "metadata": {
        "colab": {
          "base_uri": "https://localhost:8080/"
        },
        "id": "UaQh0moGQjZL",
        "outputId": "492b7c0b-d7d2-4f19-97d5-7426aecd4f75"
      },
      "source": [
        "cosine_similarity = numpy.dot(model2['fonts'], model2['typography'])\n",
        "cosine_similarity"
      ],
      "execution_count": 146,
      "outputs": [
        {
          "output_type": "stream",
          "text": [
            "/usr/local/lib/python3.7/dist-packages/ipykernel_launcher.py:1: DeprecationWarning: Call to deprecated `__getitem__` (Method will be removed in 4.0.0, use self.wv.__getitem__() instead).\n",
            "  \"\"\"Entry point for launching an IPython kernel.\n"
          ],
          "name": "stderr"
        },
        {
          "output_type": "execute_result",
          "data": {
            "text/plain": [
              "7.092531e-05"
            ]
          },
          "metadata": {
            "tags": []
          },
          "execution_count": 146
        }
      ]
    }
  ]
}