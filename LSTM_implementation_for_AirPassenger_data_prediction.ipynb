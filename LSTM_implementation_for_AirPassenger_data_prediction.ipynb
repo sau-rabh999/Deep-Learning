{
  "nbformat": 4,
  "nbformat_minor": 0,
  "metadata": {
    "colab": {
      "name": "LSTM implementation for AirPassenger data prediction.ipynb",
      "provenance": [],
      "authorship_tag": "ABX9TyOnJc/1eNwljd7fsR3TG7OP",
      "include_colab_link": true
    },
    "kernelspec": {
      "name": "python3",
      "display_name": "Python 3"
    },
    "language_info": {
      "name": "python"
    }
  },
  "cells": [
    {
      "cell_type": "markdown",
      "metadata": {
        "id": "view-in-github",
        "colab_type": "text"
      },
      "source": [
        "<a href=\"https://colab.research.google.com/github/sau-rabh999/Deep-Learning/blob/main/LSTM_implementation_for_AirPassenger_data_prediction.ipynb\" target=\"_parent\"><img src=\"https://colab.research.google.com/assets/colab-badge.svg\" alt=\"Open In Colab\"/></a>"
      ]
    },
    {
      "cell_type": "markdown",
      "metadata": {
        "id": "VjJhar4JWL5A"
      },
      "source": [
        "Importing libraries"
      ]
    },
    {
      "cell_type": "code",
      "metadata": {
        "id": "S7rRHjd-WBtH"
      },
      "source": [
        "import numpy as np\n",
        "import pandas as pd\n",
        "import matplotlib.pyplot as plt\n",
        "import math\n",
        "\n",
        "from keras.models import Sequential\n",
        "from keras.layers import Dense\n",
        "from keras.layers import LSTM, Flatten\n",
        "from sklearn.preprocessing import MinMaxScaler\n",
        "from sklearn.metrics import mean_squared_error"
      ],
      "execution_count": null,
      "outputs": []
    },
    {
      "cell_type": "markdown",
      "metadata": {
        "id": "H__GSc2VWXxu"
      },
      "source": [
        "Importing dataset"
      ]
    },
    {
      "cell_type": "code",
      "metadata": {
        "colab": {
          "base_uri": "https://localhost:8080/",
          "height": 202
        },
        "id": "WVOBMTAaWZyK",
        "outputId": "15d1783d-9ff2-4fa2-c16b-6aab55e1f11e"
      },
      "source": [
        "df = pd.read_csv('AirPassengers.csv', usecols=[1])\n",
        "df.head()"
      ],
      "execution_count": null,
      "outputs": [
        {
          "output_type": "execute_result",
          "data": {
            "text/html": [
              "<div>\n",
              "<style scoped>\n",
              "    .dataframe tbody tr th:only-of-type {\n",
              "        vertical-align: middle;\n",
              "    }\n",
              "\n",
              "    .dataframe tbody tr th {\n",
              "        vertical-align: top;\n",
              "    }\n",
              "\n",
              "    .dataframe thead th {\n",
              "        text-align: right;\n",
              "    }\n",
              "</style>\n",
              "<table border=\"1\" class=\"dataframe\">\n",
              "  <thead>\n",
              "    <tr style=\"text-align: right;\">\n",
              "      <th></th>\n",
              "      <th>#Passengers</th>\n",
              "    </tr>\n",
              "  </thead>\n",
              "  <tbody>\n",
              "    <tr>\n",
              "      <th>0</th>\n",
              "      <td>112</td>\n",
              "    </tr>\n",
              "    <tr>\n",
              "      <th>1</th>\n",
              "      <td>118</td>\n",
              "    </tr>\n",
              "    <tr>\n",
              "      <th>2</th>\n",
              "      <td>132</td>\n",
              "    </tr>\n",
              "    <tr>\n",
              "      <th>3</th>\n",
              "      <td>129</td>\n",
              "    </tr>\n",
              "    <tr>\n",
              "      <th>4</th>\n",
              "      <td>121</td>\n",
              "    </tr>\n",
              "  </tbody>\n",
              "</table>\n",
              "</div>"
            ],
            "text/plain": [
              "   #Passengers\n",
              "0          112\n",
              "1          118\n",
              "2          132\n",
              "3          129\n",
              "4          121"
            ]
          },
          "metadata": {
            "tags": []
          },
          "execution_count": 6
        }
      ]
    },
    {
      "cell_type": "code",
      "metadata": {
        "colab": {
          "base_uri": "https://localhost:8080/",
          "height": 282
        },
        "id": "GW8DHi3FWosi",
        "outputId": "9db057f9-73c9-40ff-cb1a-0ef03d7728d9"
      },
      "source": [
        "plt.plot(df)"
      ],
      "execution_count": null,
      "outputs": [
        {
          "output_type": "execute_result",
          "data": {
            "text/plain": [
              "[<matplotlib.lines.Line2D at 0x7fdba9891d10>]"
            ]
          },
          "metadata": {
            "tags": []
          },
          "execution_count": 7
        },
        {
          "output_type": "display_data",
          "data": {
            "image/png": "[encoded data removed]",
            "text/plain": [
              "<Figure size 432x288 with 1 Axes>"
            ]
          },
          "metadata": {
            "tags": [],
            "needs_background": "light"
          }
        }
      ]
    },
    {
      "cell_type": "markdown",
      "metadata": {
        "id": "R9C6MQ-4W1GG"
      },
      "source": [
        "Convert pandas dataframe to numpy array"
      ]
    },
    {
      "cell_type": "code",
      "metadata": {
        "id": "qN0PUl_BW18P"
      },
      "source": [
        "ds = df.values\n",
        "ds = ds.astype('float32')    #convert values to float"
      ],
      "execution_count": null,
      "outputs": []
    },
    {
      "cell_type": "markdown",
      "metadata": {
        "id": "jIm8A5MRW_7k"
      },
      "source": [
        "Normalization"
      ]
    },
    {
      "cell_type": "code",
      "metadata": {
        "id": "xSFABa2-XBc8",
        "colab": {
          "base_uri": "https://localhost:8080/"
        },
        "outputId": "dc5463ad-c038-4585-dd70-e9647b8109c0"
      },
      "source": [
        "scaler = MinMaxScaler(feature_range=(0, 1))\n",
        "ds = scaler.fit_transform(ds)\n",
        "len(ds)"
      ],
      "execution_count": null,
      "outputs": [
        {
          "output_type": "execute_result",
          "data": {
            "text/plain": [
              "144"
            ]
          },
          "metadata": {
            "tags": []
          },
          "execution_count": 15
        }
      ]
    },
    {
      "cell_type": "markdown",
      "metadata": {
        "id": "KXAnoR4wXJQF"
      },
      "source": [
        "Splitting into training and test data"
      ]
    },
    {
      "cell_type": "code",
      "metadata": {
        "id": "7z_VDWIpXMYK"
      },
      "source": [
        "train_size = int(len(ds) * 0.7)\n",
        "test_size = len(ds) - train_size\n",
        "train, test = ds[0:train_size,:], ds[train_size:len(ds),:]"
      ],
      "execution_count": null,
      "outputs": []
    },
    {
      "cell_type": "code",
      "metadata": {
        "colab": {
          "base_uri": "https://localhost:8080/"
        },
        "id": "eiD__DJcW3jx",
        "outputId": "3a6f57d0-e54a-4c1c-dc7c-2340b9947c08"
      },
      "source": [
        "len(train)"
      ],
      "execution_count": null,
      "outputs": [
        {
          "output_type": "execute_result",
          "data": {
            "text/plain": [
              "100"
            ]
          },
          "metadata": {
            "tags": []
          },
          "execution_count": 16
        }
      ]
    },
    {
      "cell_type": "code",
      "metadata": {
        "colab": {
          "base_uri": "https://localhost:8080/"
        },
        "id": "LIiEHv9AW4-t",
        "outputId": "25f702cc-e760-47f1-e062-9a988d197563"
      },
      "source": [
        "len(test)"
      ],
      "execution_count": null,
      "outputs": [
        {
          "output_type": "execute_result",
          "data": {
            "text/plain": [
              "44"
            ]
          },
          "metadata": {
            "tags": []
          },
          "execution_count": 17
        }
      ]
    },
    {
      "cell_type": "markdown",
      "metadata": {
        "id": "WJoyG8pGYHs5"
      },
      "source": [
        "Converting data into sequences"
      ]
    },
    {
      "cell_type": "code",
      "metadata": {
        "id": "rrKm4W_SYKuK"
      },
      "source": [
        "#function to reshape input data into a sequence\n",
        "\n",
        "def to_seq(ds, seq_size=1):\n",
        "  x, y  = [],[]\n",
        "  for i in range(len(ds)-seq_size-1):\n",
        "      win = ds[i:(i+seq_size), 0]\n",
        "      x.append(win)\n",
        "      y.append(ds[i+seq_size, 0])\n",
        "        \n",
        "  return np.array(x),np.array(y)"
      ],
      "execution_count": null,
      "outputs": []
    },
    {
      "cell_type": "code",
      "metadata": {
        "id": "AXo3LdMvVBW2"
      },
      "source": [
        "seq_size = 10          # Number of time steps to look back "
      ],
      "execution_count": null,
      "outputs": []
    },
    {
      "cell_type": "code",
      "metadata": {
        "id": "VgeNXRHDYK0i"
      },
      "source": [
        "x_train, y_train = to_seq(train, seq_size)\n",
        "x_test, y_test = to_seq(test, seq_size)"
      ],
      "execution_count": null,
      "outputs": []
    },
    {
      "cell_type": "code",
      "metadata": {
        "colab": {
          "base_uri": "https://localhost:8080/"
        },
        "id": "2ER8IqoMVucy",
        "outputId": "c2cbb98e-b56e-4fab-e4f2-f4bf49d71ecb"
      },
      "source": [
        "print(\"Shape of training set: {}\".format(x_train.shape))\n",
        "print(\"Shape of test set: {}\".format(x_test.shape))"
      ],
      "execution_count": null,
      "outputs": [
        {
          "output_type": "stream",
          "text": [
            "Shape of training set: (89, 10)\n",
            "Shape of test set: (33, 10)\n"
          ],
          "name": "stdout"
        }
      ]
    },
    {
      "cell_type": "code",
      "metadata": {
        "colab": {
          "base_uri": "https://localhost:8080/"
        },
        "id": "hIi5YO4bXZxa",
        "outputId": "bdc834a8-4b82-44c6-b672-ba2dc527b421"
      },
      "source": [
        "x_train"
      ],
      "execution_count": null,
      "outputs": [
        {
          "output_type": "execute_result",
          "data": {
            "text/plain": [
              "array([[0.01544401, 0.02702703, 0.05405405, 0.04826255, 0.03281853,\n",
              "        0.05984557, 0.08494207, 0.08494207, 0.06177607, 0.02895753],\n",
              "       [0.02702703, 0.05405405, 0.04826255, 0.03281853, 0.05984557,\n",
              "        0.08494207, 0.08494207, 0.06177607, 0.02895753, 0.        ],\n",
              "       [0.05405405, 0.04826255, 0.03281853, 0.05984557, 0.08494207,\n",
              "        0.08494207, 0.06177607, 0.02895753, 0.        , 0.02702703],\n",
              "       [0.04826255, 0.03281853, 0.05984557, 0.08494207, 0.08494207,\n",
              "        0.06177607, 0.02895753, 0.        , 0.02702703, 0.02123553],\n",
              "       [0.03281853, 0.05984557, 0.08494207, 0.08494207, 0.06177607,\n",
              "        0.02895753, 0.        , 0.02702703, 0.02123553, 0.04247104],\n",
              "       [0.05984557, 0.08494207, 0.08494207, 0.06177607, 0.02895753,\n",
              "        0.        , 0.02702703, 0.02123553, 0.04247104, 0.07142857],\n",
              "       [0.08494207, 0.08494207, 0.06177607, 0.02895753, 0.        ,\n",
              "        0.02702703, 0.02123553, 0.04247104, 0.07142857, 0.05984557],\n",
              "       [0.08494207, 0.06177607, 0.02895753, 0.        , 0.02702703,\n",
              "        0.02123553, 0.04247104, 0.07142857, 0.05984557, 0.04054055],\n",
              "       [0.06177607, 0.02895753, 0.        , 0.02702703, 0.02123553,\n",
              "        0.04247104, 0.07142857, 0.05984557, 0.04054055, 0.08687258],\n",
              "       [0.02895753, 0.        , 0.02702703, 0.02123553, 0.04247104,\n",
              "        0.07142857, 0.05984557, 0.04054055, 0.08687258, 0.12741312],\n",
              "       [0.        , 0.02702703, 0.02123553, 0.04247104, 0.07142857,\n",
              "        0.05984557, 0.04054055, 0.08687258, 0.12741312, 0.12741312],\n",
              "       [0.02702703, 0.02123553, 0.04247104, 0.07142857, 0.05984557,\n",
              "        0.04054055, 0.08687258, 0.12741312, 0.12741312, 0.10424709],\n",
              "       [0.02123553, 0.04247104, 0.07142857, 0.05984557, 0.04054055,\n",
              "        0.08687258, 0.12741312, 0.12741312, 0.10424709, 0.05598456],\n",
              "       [0.04247104, 0.07142857, 0.05984557, 0.04054055, 0.08687258,\n",
              "        0.12741312, 0.12741312, 0.10424709, 0.05598456, 0.01930502],\n",
              "       [0.07142857, 0.05984557, 0.04054055, 0.08687258, 0.12741312,\n",
              "        0.12741312, 0.10424709, 0.05598456, 0.01930502, 0.06949806],\n",
              "       [0.05984557, 0.04054055, 0.08687258, 0.12741312, 0.12741312,\n",
              "        0.10424709, 0.05598456, 0.01930502, 0.06949806, 0.07915059],\n",
              "       [0.04054055, 0.08687258, 0.12741312, 0.12741312, 0.10424709,\n",
              "        0.05598456, 0.01930502, 0.06949806, 0.07915059, 0.08880308],\n",
              "       [0.08687258, 0.12741312, 0.12741312, 0.10424709, 0.05598456,\n",
              "        0.01930502, 0.06949806, 0.07915059, 0.08880308, 0.14285713],\n",
              "       [0.12741312, 0.12741312, 0.10424709, 0.05598456, 0.01930502,\n",
              "        0.06949806, 0.07915059, 0.08880308, 0.14285713, 0.11389962],\n",
              "       [0.12741312, 0.10424709, 0.05598456, 0.01930502, 0.06949806,\n",
              "        0.07915059, 0.08880308, 0.14285713, 0.11389962, 0.13127413],\n",
              "       [0.10424709, 0.05598456, 0.01930502, 0.06949806, 0.07915059,\n",
              "        0.08880308, 0.14285713, 0.11389962, 0.13127413, 0.14285713],\n",
              "       [0.05598456, 0.01930502, 0.06949806, 0.07915059, 0.08880308,\n",
              "        0.14285713, 0.11389962, 0.13127413, 0.14285713, 0.18339768],\n",
              "       [0.01930502, 0.06949806, 0.07915059, 0.08880308, 0.14285713,\n",
              "        0.11389962, 0.13127413, 0.14285713, 0.18339768, 0.18339768],\n",
              "       [0.06949806, 0.07915059, 0.08880308, 0.14285713, 0.11389962,\n",
              "        0.13127413, 0.14285713, 0.18339768, 0.18339768, 0.15444016],\n",
              "       [0.07915059, 0.08880308, 0.14285713, 0.11389962, 0.13127413,\n",
              "        0.14285713, 0.18339768, 0.18339768, 0.15444016, 0.11196911],\n",
              "       [0.08880308, 0.14285713, 0.11389962, 0.13127413, 0.14285713,\n",
              "        0.18339768, 0.18339768, 0.15444016, 0.11196911, 0.08108109],\n",
              "       [0.14285713, 0.11389962, 0.13127413, 0.14285713, 0.18339768,\n",
              "        0.18339768, 0.15444016, 0.11196911, 0.08108109, 0.1196911 ],\n",
              "       [0.11389962, 0.13127413, 0.14285713, 0.18339768, 0.18339768,\n",
              "        0.15444016, 0.11196911, 0.08108109, 0.1196911 , 0.12934363],\n",
              "       [0.13127413, 0.14285713, 0.18339768, 0.18339768, 0.15444016,\n",
              "        0.11196911, 0.08108109, 0.1196911 , 0.12934363, 0.14671814],\n",
              "       [0.14285713, 0.18339768, 0.18339768, 0.15444016, 0.11196911,\n",
              "        0.08108109, 0.1196911 , 0.12934363, 0.14671814, 0.17181468],\n",
              "       [0.18339768, 0.18339768, 0.15444016, 0.11196911, 0.08108109,\n",
              "        0.1196911 , 0.12934363, 0.14671814, 0.17181468, 0.14864865],\n",
              "       [0.18339768, 0.15444016, 0.11196911, 0.08108109, 0.1196911 ,\n",
              "        0.12934363, 0.14671814, 0.17181468, 0.14864865, 0.15250966],\n",
              "       [0.15444016, 0.11196911, 0.08108109, 0.1196911 , 0.12934363,\n",
              "        0.14671814, 0.17181468, 0.14864865, 0.15250966, 0.22007722],\n",
              "       [0.11196911, 0.08108109, 0.1196911 , 0.12934363, 0.14671814,\n",
              "        0.17181468, 0.14864865, 0.15250966, 0.22007722, 0.24324325],\n",
              "       [0.08108109, 0.1196911 , 0.12934363, 0.14671814, 0.17181468,\n",
              "        0.14864865, 0.15250966, 0.22007722, 0.24324325, 0.26640925],\n",
              "       [0.1196911 , 0.12934363, 0.14671814, 0.17181468, 0.14864865,\n",
              "        0.15250966, 0.22007722, 0.24324325, 0.26640925, 0.2027027 ],\n",
              "       [0.12934363, 0.14671814, 0.17181468, 0.14864865, 0.15250966,\n",
              "        0.22007722, 0.24324325, 0.26640925, 0.2027027 , 0.16795367],\n",
              "       [0.14671814, 0.17181468, 0.14864865, 0.15250966, 0.22007722,\n",
              "        0.24324325, 0.26640925, 0.2027027 , 0.16795367, 0.13127413],\n",
              "       [0.17181468, 0.14864865, 0.15250966, 0.22007722, 0.24324325,\n",
              "        0.26640925, 0.2027027 , 0.16795367, 0.13127413, 0.17374519],\n",
              "       [0.14864865, 0.15250966, 0.22007722, 0.24324325, 0.26640925,\n",
              "        0.2027027 , 0.16795367, 0.13127413, 0.17374519, 0.17760617],\n",
              "       [0.15250966, 0.22007722, 0.24324325, 0.26640925, 0.2027027 ,\n",
              "        0.16795367, 0.13127413, 0.17374519, 0.17760617, 0.17760617],\n",
              "       [0.22007722, 0.24324325, 0.26640925, 0.2027027 , 0.16795367,\n",
              "        0.13127413, 0.17374519, 0.17760617, 0.17760617, 0.25482625],\n",
              "       [0.24324325, 0.26640925, 0.2027027 , 0.16795367, 0.13127413,\n",
              "        0.17374519, 0.17760617, 0.17760617, 0.25482625, 0.25289574],\n",
              "       [0.26640925, 0.2027027 , 0.16795367, 0.13127413, 0.17374519,\n",
              "        0.17760617, 0.17760617, 0.25482625, 0.25289574, 0.24131274],\n",
              "       [0.2027027 , 0.16795367, 0.13127413, 0.17374519, 0.17760617,\n",
              "        0.17760617, 0.25482625, 0.25289574, 0.24131274, 0.26833975],\n",
              "       [0.16795367, 0.13127413, 0.17374519, 0.17760617, 0.17760617,\n",
              "        0.25482625, 0.25289574, 0.24131274, 0.26833975, 0.3088803 ],\n",
              "       [0.13127413, 0.17374519, 0.17760617, 0.17760617, 0.25482625,\n",
              "        0.25289574, 0.24131274, 0.26833975, 0.3088803 , 0.32432434],\n",
              "       [0.17374519, 0.17760617, 0.17760617, 0.25482625, 0.25289574,\n",
              "        0.24131274, 0.26833975, 0.3088803 , 0.32432434, 0.25675675],\n",
              "       [0.17760617, 0.17760617, 0.25482625, 0.25289574, 0.24131274,\n",
              "        0.26833975, 0.3088803 , 0.32432434, 0.25675675, 0.20656371],\n",
              "       [0.17760617, 0.25482625, 0.25289574, 0.24131274, 0.26833975,\n",
              "        0.3088803 , 0.32432434, 0.25675675, 0.20656371, 0.14671814],\n",
              "       [0.25482625, 0.25289574, 0.24131274, 0.26833975, 0.3088803 ,\n",
              "        0.32432434, 0.25675675, 0.20656371, 0.14671814, 0.18725869],\n",
              "       [0.25289574, 0.24131274, 0.26833975, 0.3088803 , 0.32432434,\n",
              "        0.25675675, 0.20656371, 0.14671814, 0.18725869, 0.19305018],\n",
              "       [0.24131274, 0.26833975, 0.3088803 , 0.32432434, 0.25675675,\n",
              "        0.20656371, 0.14671814, 0.18725869, 0.19305018, 0.16216215],\n",
              "       [0.26833975, 0.3088803 , 0.32432434, 0.25675675, 0.20656371,\n",
              "        0.14671814, 0.18725869, 0.19305018, 0.16216215, 0.25289574],\n",
              "       [0.3088803 , 0.32432434, 0.25675675, 0.20656371, 0.14671814,\n",
              "        0.18725869, 0.19305018, 0.16216215, 0.25289574, 0.23745173],\n",
              "       [0.32432434, 0.25675675, 0.20656371, 0.14671814, 0.18725869,\n",
              "        0.19305018, 0.16216215, 0.25289574, 0.23745173, 0.25096524],\n",
              "       [0.25675675, 0.20656371, 0.14671814, 0.18725869, 0.19305018,\n",
              "        0.16216215, 0.25289574, 0.23745173, 0.25096524, 0.3088803 ],\n",
              "       [0.20656371, 0.14671814, 0.18725869, 0.19305018, 0.16216215,\n",
              "        0.25289574, 0.23745173, 0.25096524, 0.3088803 , 0.38223937],\n",
              "       [0.14671814, 0.18725869, 0.19305018, 0.16216215, 0.25289574,\n",
              "        0.23745173, 0.25096524, 0.3088803 , 0.38223937, 0.36486486],\n",
              "       [0.18725869, 0.19305018, 0.16216215, 0.25289574, 0.23745173,\n",
              "        0.25096524, 0.3088803 , 0.38223937, 0.36486486, 0.2992278 ],\n",
              "       [0.19305018, 0.16216215, 0.25289574, 0.23745173, 0.25096524,\n",
              "        0.3088803 , 0.38223937, 0.36486486, 0.2992278 , 0.24131274],\n",
              "       [0.16216215, 0.25289574, 0.23745173, 0.25096524, 0.3088803 ,\n",
              "        0.38223937, 0.36486486, 0.2992278 , 0.24131274, 0.1911197 ],\n",
              "       [0.25289574, 0.23745173, 0.25096524, 0.3088803 , 0.38223937,\n",
              "        0.36486486, 0.2992278 , 0.24131274, 0.1911197 , 0.24131274],\n",
              "       [0.23745173, 0.25096524, 0.3088803 , 0.38223937, 0.36486486,\n",
              "        0.2992278 , 0.24131274, 0.1911197 , 0.24131274, 0.26640925],\n",
              "       [0.25096524, 0.3088803 , 0.38223937, 0.36486486, 0.2992278 ,\n",
              "        0.24131274, 0.1911197 , 0.24131274, 0.26640925, 0.24903473],\n",
              "       [0.3088803 , 0.38223937, 0.36486486, 0.2992278 , 0.24131274,\n",
              "        0.1911197 , 0.24131274, 0.26640925, 0.24903473, 0.31467178],\n",
              "       [0.38223937, 0.36486486, 0.2992278 , 0.24131274, 0.1911197 ,\n",
              "        0.24131274, 0.26640925, 0.24903473, 0.31467178, 0.3185328 ],\n",
              "       [0.36486486, 0.2992278 , 0.24131274, 0.1911197 , 0.24131274,\n",
              "        0.26640925, 0.24903473, 0.31467178, 0.3185328 , 0.32046333],\n",
              "       [0.2992278 , 0.24131274, 0.1911197 , 0.24131274, 0.26640925,\n",
              "        0.24903473, 0.31467178, 0.3185328 , 0.32046333, 0.4073359 ],\n",
              "       [0.24131274, 0.1911197 , 0.24131274, 0.26640925, 0.24903473,\n",
              "        0.31467178, 0.3185328 , 0.32046333, 0.4073359 , 0.5019305 ],\n",
              "       [0.1911197 , 0.24131274, 0.26640925, 0.24903473, 0.31467178,\n",
              "        0.3185328 , 0.32046333, 0.4073359 , 0.5019305 , 0.46911195],\n",
              "       [0.24131274, 0.26640925, 0.24903473, 0.31467178, 0.3185328 ,\n",
              "        0.32046333, 0.4073359 , 0.5019305 , 0.46911195, 0.40154442],\n",
              "       [0.26640925, 0.24903473, 0.31467178, 0.3185328 , 0.32046333,\n",
              "        0.4073359 , 0.5019305 , 0.46911195, 0.40154442, 0.32818535],\n",
              "       [0.24903473, 0.31467178, 0.3185328 , 0.32046333, 0.4073359 ,\n",
              "        0.5019305 , 0.46911195, 0.40154442, 0.32818535, 0.25675675],\n",
              "       [0.31467178, 0.3185328 , 0.32046333, 0.4073359 , 0.5019305 ,\n",
              "        0.46911195, 0.40154442, 0.32818535, 0.25675675, 0.3359073 ],\n",
              "       [0.3185328 , 0.32046333, 0.4073359 , 0.5019305 , 0.46911195,\n",
              "        0.40154442, 0.32818535, 0.25675675, 0.3359073 , 0.34749034],\n",
              "       [0.32046333, 0.4073359 , 0.5019305 , 0.46911195, 0.40154442,\n",
              "        0.32818535, 0.25675675, 0.3359073 , 0.34749034, 0.33397684],\n",
              "       [0.4073359 , 0.5019305 , 0.46911195, 0.40154442, 0.32818535,\n",
              "        0.25675675, 0.3359073 , 0.34749034, 0.33397684, 0.41119692],\n",
              "       [0.5019305 , 0.46911195, 0.40154442, 0.32818535, 0.25675675,\n",
              "        0.3359073 , 0.34749034, 0.33397684, 0.41119692, 0.4034749 ],\n",
              "       [0.46911195, 0.40154442, 0.32818535, 0.25675675, 0.3359073 ,\n",
              "        0.34749034, 0.33397684, 0.41119692, 0.4034749 , 0.4131274 ],\n",
              "       [0.40154442, 0.32818535, 0.25675675, 0.3359073 , 0.34749034,\n",
              "        0.33397684, 0.41119692, 0.4034749 , 0.4131274 , 0.52123547],\n",
              "       [0.32818535, 0.25675675, 0.3359073 , 0.34749034, 0.33397684,\n",
              "        0.41119692, 0.4034749 , 0.4131274 , 0.52123547, 0.5965251 ],\n",
              "       [0.25675675, 0.3359073 , 0.34749034, 0.33397684, 0.41119692,\n",
              "        0.4034749 , 0.4131274 , 0.52123547, 0.5965251 , 0.58108103],\n",
              "       [0.3359073 , 0.34749034, 0.33397684, 0.41119692, 0.4034749 ,\n",
              "        0.4131274 , 0.52123547, 0.5965251 , 0.58108103, 0.484556  ],\n",
              "       [0.34749034, 0.33397684, 0.41119692, 0.4034749 , 0.4131274 ,\n",
              "        0.52123547, 0.5965251 , 0.58108103, 0.484556  , 0.3899614 ],\n",
              "       [0.33397684, 0.41119692, 0.4034749 , 0.4131274 , 0.52123547,\n",
              "        0.5965251 , 0.58108103, 0.484556  , 0.3899614 , 0.3223938 ],\n",
              "       [0.41119692, 0.4034749 , 0.4131274 , 0.52123547, 0.5965251 ,\n",
              "        0.58108103, 0.484556  , 0.3899614 , 0.3223938 , 0.3899614 ],\n",
              "       [0.4034749 , 0.4131274 , 0.52123547, 0.5965251 , 0.58108103,\n",
              "        0.484556  , 0.3899614 , 0.3223938 , 0.3899614 , 0.4073359 ],\n",
              "       [0.4131274 , 0.52123547, 0.5965251 , 0.58108103, 0.484556  ,\n",
              "        0.3899614 , 0.3223938 , 0.3899614 , 0.4073359 , 0.3803089 ]],\n",
              "      dtype=float32)"
            ]
          },
          "metadata": {
            "tags": []
          },
          "execution_count": 27
        }
      ]
    },
    {
      "cell_type": "code",
      "metadata": {
        "colab": {
          "base_uri": "https://localhost:8080/"
        },
        "id": "3lZT83sPuXlI",
        "outputId": "4a21306f-4860-4fbd-f1c2-ccf00e53dcb0"
      },
      "source": [
        "x_train.shape"
      ],
      "execution_count": 40,
      "outputs": [
        {
          "output_type": "execute_result",
          "data": {
            "text/plain": [
              "(89, 1, 10)"
            ]
          },
          "metadata": {
            "tags": []
          },
          "execution_count": 40
        }
      ]
    },
    {
      "cell_type": "code",
      "metadata": {
        "colab": {
          "base_uri": "https://localhost:8080/"
        },
        "id": "scIJTdTbYogv",
        "outputId": "a5670093-336a-41bc-be70-3a75bc23d30b"
      },
      "source": [
        "x_test"
      ],
      "execution_count": null,
      "outputs": [
        {
          "output_type": "execute_result",
          "data": {
            "text/plain": [
              "array([[0.484556  , 0.6138996 , 0.6969112 , 0.70077217, 0.57915056,\n",
              "        0.46911195, 0.38803086, 0.44787642, 0.45559844, 0.4131274 ],\n",
              "       [0.6138996 , 0.6969112 , 0.70077217, 0.57915056, 0.46911195,\n",
              "        0.38803086, 0.44787642, 0.45559844, 0.4131274 , 0.4980695 ],\n",
              "       [0.6969112 , 0.70077217, 0.57915056, 0.46911195, 0.38803086,\n",
              "        0.44787642, 0.45559844, 0.4131274 , 0.4980695 , 0.47104248],\n",
              "       [0.70077217, 0.57915056, 0.46911195, 0.38803086, 0.44787642,\n",
              "        0.45559844, 0.4131274 , 0.4980695 , 0.47104248, 0.49999997],\n",
              "       [0.57915056, 0.46911195, 0.38803086, 0.44787642, 0.45559844,\n",
              "        0.4131274 , 0.4980695 , 0.47104248, 0.49999997, 0.6389961 ],\n",
              "       [0.46911195, 0.38803086, 0.44787642, 0.45559844, 0.4131274 ,\n",
              "        0.4980695 , 0.47104248, 0.49999997, 0.6389961 , 0.7471043 ],\n",
              "       [0.38803086, 0.44787642, 0.45559844, 0.4131274 , 0.4980695 ,\n",
              "        0.47104248, 0.49999997, 0.6389961 , 0.7471043 , 0.7741313 ],\n",
              "       [0.44787642, 0.45559844, 0.4131274 , 0.4980695 , 0.47104248,\n",
              "        0.49999997, 0.6389961 , 0.7471043 , 0.7741313 , 0.57915056],\n",
              "       [0.45559844, 0.4131274 , 0.4980695 , 0.47104248, 0.49999997,\n",
              "        0.6389961 , 0.7471043 , 0.7741313 , 0.57915056, 0.492278  ],\n",
              "       [0.4131274 , 0.4980695 , 0.47104248, 0.49999997, 0.6389961 ,\n",
              "        0.7471043 , 0.7741313 , 0.57915056, 0.492278  , 0.3976834 ],\n",
              "       [0.4980695 , 0.47104248, 0.49999997, 0.6389961 , 0.7471043 ,\n",
              "        0.7741313 , 0.57915056, 0.492278  , 0.3976834 , 0.44980696],\n",
              "       [0.47104248, 0.49999997, 0.6389961 , 0.7471043 , 0.7741313 ,\n",
              "        0.57915056, 0.492278  , 0.3976834 , 0.44980696, 0.49420848],\n",
              "       [0.49999997, 0.6389961 , 0.7471043 , 0.7741313 , 0.57915056,\n",
              "        0.492278  , 0.3976834 , 0.44980696, 0.49420848, 0.45945945],\n",
              "       [0.6389961 , 0.7471043 , 0.7741313 , 0.57915056, 0.492278  ,\n",
              "        0.3976834 , 0.44980696, 0.49420848, 0.45945945, 0.5830116 ],\n",
              "       [0.7471043 , 0.7741313 , 0.57915056, 0.492278  , 0.3976834 ,\n",
              "        0.44980696, 0.49420848, 0.45945945, 0.5830116 , 0.5637065 ],\n",
              "       [0.7741313 , 0.57915056, 0.492278  , 0.3976834 , 0.44980696,\n",
              "        0.49420848, 0.45945945, 0.5830116 , 0.5637065 , 0.61003864],\n",
              "       [0.57915056, 0.492278  , 0.3976834 , 0.44980696, 0.49420848,\n",
              "        0.45945945, 0.5830116 , 0.5637065 , 0.61003864, 0.71042466],\n",
              "       [0.492278  , 0.3976834 , 0.44980696, 0.49420848, 0.45945945,\n",
              "        0.5830116 , 0.5637065 , 0.61003864, 0.71042466, 0.8571429 ],\n",
              "       [0.3976834 , 0.44980696, 0.49420848, 0.45945945, 0.5830116 ,\n",
              "        0.5637065 , 0.61003864, 0.71042466, 0.8571429 , 0.8783784 ],\n",
              "       [0.44980696, 0.49420848, 0.45945945, 0.5830116 , 0.5637065 ,\n",
              "        0.61003864, 0.71042466, 0.8571429 , 0.8783784 , 0.69305015],\n",
              "       [0.49420848, 0.45945945, 0.5830116 , 0.5637065 , 0.61003864,\n",
              "        0.71042466, 0.8571429 , 0.8783784 , 0.69305015, 0.5849421 ],\n",
              "       [0.45945945, 0.5830116 , 0.5637065 , 0.61003864, 0.71042466,\n",
              "        0.8571429 , 0.8783784 , 0.69305015, 0.5849421 , 0.4980695 ],\n",
              "       [0.5830116 , 0.5637065 , 0.61003864, 0.71042466, 0.8571429 ,\n",
              "        0.8783784 , 0.69305015, 0.5849421 , 0.4980695 , 0.58108103],\n",
              "       [0.5637065 , 0.61003864, 0.71042466, 0.8571429 , 0.8783784 ,\n",
              "        0.69305015, 0.5849421 , 0.4980695 , 0.58108103, 0.6042471 ],\n",
              "       [0.61003864, 0.71042466, 0.8571429 , 0.8783784 , 0.69305015,\n",
              "        0.5849421 , 0.4980695 , 0.58108103, 0.6042471 , 0.554054  ],\n",
              "       [0.71042466, 0.8571429 , 0.8783784 , 0.69305015, 0.5849421 ,\n",
              "        0.4980695 , 0.58108103, 0.6042471 , 0.554054  , 0.60810804],\n",
              "       [0.8571429 , 0.8783784 , 0.69305015, 0.5849421 , 0.4980695 ,\n",
              "        0.58108103, 0.6042471 , 0.554054  , 0.60810804, 0.6891892 ],\n",
              "       [0.8783784 , 0.69305015, 0.5849421 , 0.4980695 , 0.58108103,\n",
              "        0.6042471 , 0.554054  , 0.60810804, 0.6891892 , 0.71042466],\n",
              "       [0.69305015, 0.5849421 , 0.4980695 , 0.58108103, 0.6042471 ,\n",
              "        0.554054  , 0.60810804, 0.6891892 , 0.71042466, 0.8320464 ],\n",
              "       [0.5849421 , 0.4980695 , 0.58108103, 0.6042471 , 0.554054  ,\n",
              "        0.60810804, 0.6891892 , 0.71042466, 0.8320464 , 1.        ],\n",
              "       [0.4980695 , 0.58108103, 0.6042471 , 0.554054  , 0.60810804,\n",
              "        0.6891892 , 0.71042466, 0.8320464 , 1.        , 0.96911204],\n",
              "       [0.58108103, 0.6042471 , 0.554054  , 0.60810804, 0.6891892 ,\n",
              "        0.71042466, 0.8320464 , 1.        , 0.96911204, 0.7799227 ],\n",
              "       [0.6042471 , 0.554054  , 0.60810804, 0.6891892 , 0.71042466,\n",
              "        0.8320464 , 1.        , 0.96911204, 0.7799227 , 0.6891892 ]],\n",
              "      dtype=float32)"
            ]
          },
          "metadata": {
            "tags": []
          },
          "execution_count": 28
        }
      ]
    },
    {
      "cell_type": "code",
      "metadata": {
        "colab": {
          "base_uri": "https://localhost:8080/"
        },
        "id": "KdL0QlXNuhuh",
        "outputId": "aea56544-0f02-40b2-93e1-98cde52fc72c"
      },
      "source": [
        "x_test.shape"
      ],
      "execution_count": 41,
      "outputs": [
        {
          "output_type": "execute_result",
          "data": {
            "text/plain": [
              "(33, 1, 10)"
            ]
          },
          "metadata": {
            "tags": []
          },
          "execution_count": 41
        }
      ]
    },
    {
      "cell_type": "markdown",
      "metadata": {
        "id": "K5BuwqWxX1xn"
      },
      "source": [
        "**Building model** : Stacked LSTM with 1 hidden dense layer"
      ]
    },
    {
      "cell_type": "code",
      "metadata": {
        "colab": {
          "base_uri": "https://localhost:8080/"
        },
        "id": "jR8kX0-JX1ar",
        "outputId": "7b174703-fc5f-43b0-cee2-adbff0a11d7c"
      },
      "source": [
        "#reshape input to be [samples, time steps, features]\n",
        "x_train = np.reshape(x_train, (x_train.shape[0], 1, x_train.shape[1]))\n",
        "x_test = np.reshape(x_test, (x_test.shape[0], 1, x_test.shape[1]))\n",
        "\n",
        "model = Sequential()\n",
        "model.add(LSTM(50, activation='relu', return_sequences=True, input_shape=(None, seq_size)))\n",
        "model.add(LSTM(50, activation='relu'))\n",
        "model.add(Dense(32))\n",
        "model.add(Dense(1))\n",
        "model.compile(optimizer='adam', loss='mean_squared_error')\n",
        "\n",
        "model.summary()"
      ],
      "execution_count": null,
      "outputs": [
        {
          "output_type": "stream",
          "text": [
            "Model: \"sequential_1\"\n",
            "_________________________________________________________________\n",
            "Layer (type)                 Output Shape              Param #   \n",
            "=================================================================\n",
            "lstm_2 (LSTM)                (None, None, 50)          12200     \n",
            "_________________________________________________________________\n",
            "lstm_3 (LSTM)                (None, 50)                20200     \n",
            "_________________________________________________________________\n",
            "dense_2 (Dense)              (None, 32)                1632      \n",
            "_________________________________________________________________\n",
            "dense_3 (Dense)              (None, 1)                 33        \n",
            "=================================================================\n",
            "Total params: 34,065\n",
            "Trainable params: 34,065\n",
            "Non-trainable params: 0\n",
            "_________________________________________________________________\n"
          ],
          "name": "stdout"
        }
      ]
    },
    {
      "cell_type": "code",
      "metadata": {
        "colab": {
          "base_uri": "https://localhost:8080/"
        },
        "id": "CLJlnaT2bzjt",
        "outputId": "58bdd6b2-1c83-494b-8900-dcf04d9b0d7a"
      },
      "source": [
        "model.fit(x_train, y_train, validation_data=(x_test,y_test), verbose=2, epochs=100)"
      ],
      "execution_count": null,
      "outputs": [
        {
          "output_type": "stream",
          "text": [
            "Epoch 1/100\n",
            "3/3 - 24s - loss: 0.0707 - val_loss: 0.3866\n",
            "Epoch 2/100\n",
            "3/3 - 0s - loss: 0.0578 - val_loss: 0.3478\n",
            "Epoch 3/100\n",
            "3/3 - 0s - loss: 0.0471 - val_loss: 0.3092\n",
            "Epoch 4/100\n",
            "3/3 - 0s - loss: 0.0370 - val_loss: 0.2708\n",
            "Epoch 5/100\n",
            "3/3 - 0s - loss: 0.0290 - val_loss: 0.2323\n",
            "Epoch 6/100\n",
            "3/3 - 0s - loss: 0.0224 - val_loss: 0.1945\n",
            "Epoch 7/100\n",
            "3/3 - 0s - loss: 0.0180 - val_loss: 0.1587\n",
            "Epoch 8/100\n",
            "3/3 - 0s - loss: 0.0151 - val_loss: 0.1273\n",
            "Epoch 9/100\n",
            "3/3 - 0s - loss: 0.0140 - val_loss: 0.1024\n",
            "Epoch 10/100\n",
            "3/3 - 0s - loss: 0.0150 - val_loss: 0.0838\n",
            "Epoch 11/100\n",
            "3/3 - 0s - loss: 0.0153 - val_loss: 0.0754\n",
            "Epoch 12/100\n",
            "3/3 - 0s - loss: 0.0149 - val_loss: 0.0744\n",
            "Epoch 13/100\n",
            "3/3 - 0s - loss: 0.0142 - val_loss: 0.0786\n",
            "Epoch 14/100\n",
            "3/3 - 0s - loss: 0.0129 - val_loss: 0.0823\n",
            "Epoch 15/100\n",
            "3/3 - 0s - loss: 0.0120 - val_loss: 0.0843\n",
            "Epoch 16/100\n",
            "3/3 - 0s - loss: 0.0113 - val_loss: 0.0826\n",
            "Epoch 17/100\n",
            "3/3 - 0s - loss: 0.0108 - val_loss: 0.0779\n",
            "Epoch 18/100\n",
            "3/3 - 0s - loss: 0.0102 - val_loss: 0.0688\n",
            "Epoch 19/100\n",
            "3/3 - 0s - loss: 0.0094 - val_loss: 0.0572\n",
            "Epoch 20/100\n",
            "3/3 - 0s - loss: 0.0087 - val_loss: 0.0428\n",
            "Epoch 21/100\n",
            "3/3 - 0s - loss: 0.0078 - val_loss: 0.0333\n",
            "Epoch 22/100\n",
            "3/3 - 0s - loss: 0.0073 - val_loss: 0.0264\n",
            "Epoch 23/100\n",
            "3/3 - 0s - loss: 0.0067 - val_loss: 0.0232\n",
            "Epoch 24/100\n",
            "3/3 - 0s - loss: 0.0062 - val_loss: 0.0226\n",
            "Epoch 25/100\n",
            "3/3 - 0s - loss: 0.0057 - val_loss: 0.0222\n",
            "Epoch 26/100\n",
            "3/3 - 0s - loss: 0.0053 - val_loss: 0.0220\n",
            "Epoch 27/100\n",
            "3/3 - 0s - loss: 0.0050 - val_loss: 0.0227\n",
            "Epoch 28/100\n",
            "3/3 - 0s - loss: 0.0047 - val_loss: 0.0249\n",
            "Epoch 29/100\n",
            "3/3 - 0s - loss: 0.0045 - val_loss: 0.0264\n",
            "Epoch 30/100\n",
            "3/3 - 0s - loss: 0.0044 - val_loss: 0.0278\n",
            "Epoch 31/100\n",
            "3/3 - 0s - loss: 0.0043 - val_loss: 0.0319\n",
            "Epoch 32/100\n",
            "3/3 - 0s - loss: 0.0042 - val_loss: 0.0328\n",
            "Epoch 33/100\n",
            "3/3 - 0s - loss: 0.0041 - val_loss: 0.0322\n",
            "Epoch 34/100\n",
            "3/3 - 0s - loss: 0.0040 - val_loss: 0.0323\n",
            "Epoch 35/100\n",
            "3/3 - 0s - loss: 0.0040 - val_loss: 0.0314\n",
            "Epoch 36/100\n",
            "3/3 - 0s - loss: 0.0039 - val_loss: 0.0324\n",
            "Epoch 37/100\n",
            "3/3 - 0s - loss: 0.0038 - val_loss: 0.0312\n",
            "Epoch 38/100\n",
            "3/3 - 0s - loss: 0.0037 - val_loss: 0.0309\n",
            "Epoch 39/100\n",
            "3/3 - 0s - loss: 0.0037 - val_loss: 0.0340\n",
            "Epoch 40/100\n",
            "3/3 - 0s - loss: 0.0036 - val_loss: 0.0319\n",
            "Epoch 41/100\n",
            "3/3 - 0s - loss: 0.0035 - val_loss: 0.0267\n",
            "Epoch 42/100\n",
            "3/3 - 0s - loss: 0.0034 - val_loss: 0.0253\n",
            "Epoch 43/100\n",
            "3/3 - 0s - loss: 0.0033 - val_loss: 0.0273\n",
            "Epoch 44/100\n",
            "3/3 - 0s - loss: 0.0032 - val_loss: 0.0285\n",
            "Epoch 45/100\n",
            "3/3 - 0s - loss: 0.0031 - val_loss: 0.0290\n",
            "Epoch 46/100\n",
            "3/3 - 0s - loss: 0.0031 - val_loss: 0.0266\n",
            "Epoch 47/100\n",
            "3/3 - 0s - loss: 0.0031 - val_loss: 0.0239\n",
            "Epoch 48/100\n",
            "3/3 - 0s - loss: 0.0029 - val_loss: 0.0266\n",
            "Epoch 49/100\n",
            "3/3 - 0s - loss: 0.0028 - val_loss: 0.0285\n",
            "Epoch 50/100\n",
            "3/3 - 0s - loss: 0.0028 - val_loss: 0.0277\n",
            "Epoch 51/100\n",
            "3/3 - 0s - loss: 0.0027 - val_loss: 0.0226\n",
            "Epoch 52/100\n",
            "3/3 - 0s - loss: 0.0027 - val_loss: 0.0203\n",
            "Epoch 53/100\n",
            "3/3 - 0s - loss: 0.0026 - val_loss: 0.0238\n",
            "Epoch 54/100\n",
            "3/3 - 0s - loss: 0.0025 - val_loss: 0.0258\n",
            "Epoch 55/100\n",
            "3/3 - 0s - loss: 0.0025 - val_loss: 0.0261\n",
            "Epoch 56/100\n",
            "3/3 - 0s - loss: 0.0025 - val_loss: 0.0214\n",
            "Epoch 57/100\n",
            "3/3 - 0s - loss: 0.0024 - val_loss: 0.0219\n",
            "Epoch 58/100\n",
            "3/3 - 0s - loss: 0.0024 - val_loss: 0.0230\n",
            "Epoch 59/100\n",
            "3/3 - 0s - loss: 0.0023 - val_loss: 0.0230\n",
            "Epoch 60/100\n",
            "3/3 - 0s - loss: 0.0023 - val_loss: 0.0218\n",
            "Epoch 61/100\n",
            "3/3 - 0s - loss: 0.0023 - val_loss: 0.0199\n",
            "Epoch 62/100\n",
            "3/3 - 0s - loss: 0.0022 - val_loss: 0.0233\n",
            "Epoch 63/100\n",
            "3/3 - 0s - loss: 0.0022 - val_loss: 0.0243\n",
            "Epoch 64/100\n",
            "3/3 - 0s - loss: 0.0022 - val_loss: 0.0229\n",
            "Epoch 65/100\n",
            "3/3 - 0s - loss: 0.0021 - val_loss: 0.0204\n",
            "Epoch 66/100\n",
            "3/3 - 0s - loss: 0.0021 - val_loss: 0.0188\n",
            "Epoch 67/100\n",
            "3/3 - 0s - loss: 0.0021 - val_loss: 0.0219\n",
            "Epoch 68/100\n",
            "3/3 - 0s - loss: 0.0021 - val_loss: 0.0251\n",
            "Epoch 69/100\n",
            "3/3 - 0s - loss: 0.0020 - val_loss: 0.0206\n",
            "Epoch 70/100\n",
            "3/3 - 0s - loss: 0.0021 - val_loss: 0.0166\n",
            "Epoch 71/100\n",
            "3/3 - 0s - loss: 0.0020 - val_loss: 0.0214\n",
            "Epoch 72/100\n",
            "3/3 - 0s - loss: 0.0019 - val_loss: 0.0251\n",
            "Epoch 73/100\n",
            "3/3 - 0s - loss: 0.0020 - val_loss: 0.0215\n",
            "Epoch 74/100\n",
            "3/3 - 0s - loss: 0.0019 - val_loss: 0.0170\n",
            "Epoch 75/100\n",
            "3/3 - 0s - loss: 0.0019 - val_loss: 0.0201\n",
            "Epoch 76/100\n",
            "3/3 - 0s - loss: 0.0019 - val_loss: 0.0261\n",
            "Epoch 77/100\n",
            "3/3 - 0s - loss: 0.0019 - val_loss: 0.0193\n",
            "Epoch 78/100\n",
            "3/3 - 0s - loss: 0.0019 - val_loss: 0.0187\n",
            "Epoch 79/100\n",
            "3/3 - 0s - loss: 0.0018 - val_loss: 0.0203\n",
            "Epoch 80/100\n",
            "3/3 - 0s - loss: 0.0018 - val_loss: 0.0217\n",
            "Epoch 81/100\n",
            "3/3 - 0s - loss: 0.0018 - val_loss: 0.0204\n",
            "Epoch 82/100\n",
            "3/3 - 0s - loss: 0.0018 - val_loss: 0.0171\n",
            "Epoch 83/100\n",
            "3/3 - 0s - loss: 0.0018 - val_loss: 0.0199\n",
            "Epoch 84/100\n",
            "3/3 - 0s - loss: 0.0018 - val_loss: 0.0215\n",
            "Epoch 85/100\n",
            "3/3 - 0s - loss: 0.0017 - val_loss: 0.0177\n",
            "Epoch 86/100\n",
            "3/3 - 0s - loss: 0.0018 - val_loss: 0.0167\n",
            "Epoch 87/100\n",
            "3/3 - 0s - loss: 0.0017 - val_loss: 0.0203\n",
            "Epoch 88/100\n",
            "3/3 - 0s - loss: 0.0017 - val_loss: 0.0213\n",
            "Epoch 89/100\n",
            "3/3 - 0s - loss: 0.0017 - val_loss: 0.0189\n",
            "Epoch 90/100\n",
            "3/3 - 0s - loss: 0.0017 - val_loss: 0.0168\n",
            "Epoch 91/100\n",
            "3/3 - 0s - loss: 0.0017 - val_loss: 0.0190\n",
            "Epoch 92/100\n",
            "3/3 - 0s - loss: 0.0017 - val_loss: 0.0179\n",
            "Epoch 93/100\n",
            "3/3 - 0s - loss: 0.0017 - val_loss: 0.0172\n",
            "Epoch 94/100\n",
            "3/3 - 0s - loss: 0.0016 - val_loss: 0.0182\n",
            "Epoch 95/100\n",
            "3/3 - 0s - loss: 0.0017 - val_loss: 0.0187\n",
            "Epoch 96/100\n",
            "3/3 - 0s - loss: 0.0017 - val_loss: 0.0132\n",
            "Epoch 97/100\n",
            "3/3 - 0s - loss: 0.0016 - val_loss: 0.0171\n",
            "Epoch 98/100\n",
            "3/3 - 0s - loss: 0.0017 - val_loss: 0.0210\n",
            "Epoch 99/100\n",
            "3/3 - 0s - loss: 0.0017 - val_loss: 0.0140\n",
            "Epoch 100/100\n",
            "3/3 - 0s - loss: 0.0016 - val_loss: 0.0141\n"
          ],
          "name": "stdout"
        },
        {
          "output_type": "execute_result",
          "data": {
            "text/plain": [
              "<keras.callbacks.History at 0x7fdba56fd650>"
            ]
          },
          "metadata": {
            "tags": []
          },
          "execution_count": 30
        }
      ]
    },
    {
      "cell_type": "markdown",
      "metadata": {
        "id": "Hh7ssqIydG4X"
      },
      "source": [
        "Make Predictions"
      ]
    },
    {
      "cell_type": "code",
      "metadata": {
        "id": "t75LkpgJdItD"
      },
      "source": [
        "train_pred = model.predict(x_train)\n",
        "test_pred = model.predict(x_test)"
      ],
      "execution_count": null,
      "outputs": []
    },
    {
      "cell_type": "markdown",
      "metadata": {
        "id": "-ynfaDF5dYBZ"
      },
      "source": [
        "Inverting predictions back to prescaled values (to compare with original input values)"
      ]
    },
    {
      "cell_type": "code",
      "metadata": {
        "id": "1c7J0DCjdanU"
      },
      "source": [
        "train_pred = scaler.inverse_transform(train_pred)\n",
        "y_train = scaler.inverse_transform([y_train])\n",
        "test_pred = scaler.inverse_transform(test_pred)\n",
        "y_test = scaler.inverse_transform([y_test])"
      ],
      "execution_count": null,
      "outputs": []
    },
    {
      "cell_type": "markdown",
      "metadata": {
        "id": "saiVHWkAffiG"
      },
      "source": [
        "Plotting the results"
      ]
    },
    {
      "cell_type": "code",
      "metadata": {
        "colab": {
          "base_uri": "https://localhost:8080/",
          "height": 264
        },
        "id": "5lD8PInRewL-",
        "outputId": "d15b3273-12e3-4e19-cf96-6cb5ea122319"
      },
      "source": [
        "# shift train predictions for plotting\n",
        "# we must shift the predictions so that they align on the x-axis with the original dataset. \n",
        "train_predPlot = np.empty_like(ds)\n",
        "train_predPlot[:, :] = np.nan\n",
        "train_predPlot[seq_size:len(train_pred)+seq_size, :] = train_pred\n",
        "\n",
        "# shift test predictions for plotting\n",
        "test_predPlot = np.empty_like(ds)\n",
        "test_predPlot[:, :] = np.nan\n",
        "test_predPlot[len(train_pred)+(seq_size*2)+1:len(ds)-1, :] = test_pred\n",
        "\n",
        "# plot predictions\n",
        "plt.plot(train_predPlot)\n",
        "plt.plot(test_predPlot)\n",
        "plt.xlabel('')\n",
        "plt.show()"
      ],
      "execution_count": null,
      "outputs": [
        {
          "output_type": "display_data",
          "data": {
            "image/png": "[encoded data removed]",
            "text/plain": [
              "<Figure size 432x288 with 1 Axes>"
            ]
          },
          "metadata": {
            "tags": [],
            "needs_background": "light"
          }
        }
      ]
    }
  ]
}